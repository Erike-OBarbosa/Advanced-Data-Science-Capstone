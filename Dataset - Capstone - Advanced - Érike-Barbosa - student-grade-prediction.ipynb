{
 "cells": [
  {
   "cell_type": "markdown",
   "id": "abbe7d6b",
   "metadata": {},
   "source": [
    "<br>\n",
    "<br>\n",
    "<H1>Deep Learning for Students Performance in Exams</H1>"
   ]
  },
  {
   "cell_type": "markdown",
   "id": "062ff9f6",
   "metadata": {},
   "source": [
    "![](https://images.pexels.com/photos/159775/library-la-trobe-study-students-159775.jpeg?cs=srgb&dl=pexels-pixabay-159775.jpg&fm=jpg)"
   ]
  },
  {
   "cell_type": "markdown",
   "id": "d19d49f3",
   "metadata": {},
   "source": [
    "<H2>Abstract</H2>\n",
    "    \n",
    "This lab is dedicated to application of an advanced analysis of students performance.\n",
    "\n",
    "<H2>Features:</H2>\n",
    "\n",
    "1 school - student's school (binary: 'GP' - Gabriel Pereira or 'MS' - Mousinho da Silveira)<br>\n",
    "2 sex - student's sex (binary: 'F' - female or 'M' - male)<br>\n",
    "3 age - student's age (numeric: from 15 to 22)<br>\n",
    "4 address - student's home address type (binary: 'U' - urban or 'R' - rural)<br>\n",
    "5 famsize - family size (binary: 'LE3' - less or equal to 3 or 'GT3' - greater than 3)<br>\n",
    "6 Pstatus - parent's cohabitation status (binary: 'T' - living together or 'A' - apart)<br>\n",
    "7 Medu - mother's education (numeric: 0 - none, 1 - primary education (4th grade), 2 - 5th to 9th grade, 3 - secondary education or 4 - higher education)<br>\n",
    "8 Fedu - father's education (numeric: 0 - none, 1 - primary education (4th grade), 2 - 5th to 9th grade, 3 - secondary education or 4 - higher education)<br>\n",
    "9 Mjob - mother's job (nominal: 'teacher', 'health' care related, civil 'services' (e.g. administrative or police), 'at_home' or 'other')<br>\n",
    "10 Fjob - father's job (nominal: 'teacher', 'health' care related, civil 'services' (e.g. administrative or police), 'at_home' or 'other')<br>\n",
    "11 reason - reason to choose this school (nominal: close to 'home', school 'reputation', 'course' preference or 'other')<br>\n",
    "12 guardian - student's guardian (nominal: 'mother', 'father' or 'other')<br>\n",
    "13 traveltime - home to school travel time (numeric: 1 - <15 min., 2 - 15 to 30 min., 3 - 30 min. to 1 hour, or 4 - >1 hour)<br>\n",
    "14 studytime - weekly study time (numeric: 1 - <2 hours, 2 - 2 to 5 hours, 3 - 5 to 10 hours, or 4 - >10 hours)<br>\n",
    "15 failures - number of past class failures (numeric: n if 1<=n<3, else 4)<br>\n",
    "16 schoolsup - extra educational support (binary: yes or no)<br>\n",
    "17 famsup - family educational support (binary: yes or no)<br>\n",
    "18 paid - extra paid classes within the course subject (Math or Portuguese) (binary: yes or no)<br>\n",
    "19 activities - extra-curricular activities (binary: yes or no)<br>\n",
    "20 nursery - attended nursery school (binary: yes or no)<br>\n",
    "21 higher - wants to take higher education (binary: yes or no)<br>\n",
    "22 internet - Internet access at home (binary: yes or no)<br>\n",
    "23 romantic - with a romantic relationship (binary: yes or no)<br>\n",
    "24 famrel - quality of family relationships (numeric: from 1 - very bad to 5 - excellent)<br>\n",
    "25 freetime - free time after school (numeric: from 1 - very low to 5 - very high)<br>\n",
    "26 goout - going out with friends (numeric: from 1 - very low to 5 - very high)<br>\n",
    "27 Dalc - workday alcohol consumption (numeric: from 1 - very low to 5 - very high)<br>\n",
    "28 Walc - weekend alcohol consumption (numeric: from 1 - very low to 5 - very high)<br>\n",
    "29 health - current health status (numeric: from 1 - very bad to 5 - very good)<br>\n",
    "30 absences - number of school absences (numeric: from 0 to 93)<br>\n",
    "\n",
    "<H2>Grades (Targets):</H2>\n",
    "\n",
    "31 G1 - first period grade (numeric: from 0 to 20)<br>\n",
    "31 G2 - second period grade (numeric: from 0 to 20)<br>\n",
    "32 G3 - final grade (numeric: from 0 to 20, output target)<br>\n",
    "\n",
    "\n",
    "\n",
    "<H2>Introduction</H2>\n",
    "    \n",
    "Grades are widely used in the educational system as a way to measure the performance and knowledge of students. Usualy used to progress in an institution or to get into one.\n",
    "\n",
    "This lab will show you how to upload a dataset from Kaggle (the original dataset is from https://archive.ics.uci.edu/ml/datasets/student+performance), transform them, and determine the basic features that may have influence on grades.\n",
    "\n",
    "We will use some visualization tools to measure the impact of the some features. Deep learning and TensorFlow to forecasting the grades.\n",
    "\n",
    "<H2>Objectives</H2>\n",
    "\n",
    "Create visualization if the features and the grades.\n",
    "\n",
    "Prepare the features and the targets for the learning process.\n",
    "\n",
    "Build a classification using Keras, TensorFlow.\n",
    "\n",
    "The Notebook will be uploaded to Kaggle and Github."
   ]
  },
  {
   "cell_type": "markdown",
   "id": "6b1815ec",
   "metadata": {},
   "source": [
    "<H2>Required libraries import</H2>"
   ]
  },
  {
   "cell_type": "code",
   "execution_count": 1,
   "id": "39cc334c",
   "metadata": {},
   "outputs": [],
   "source": [
    "import pandas as pd\n",
    "import matplotlib.pyplot as plt\n",
    "import numpy as np\n",
    "import seaborn as sns\n",
    "import sklearn\n",
    "from sklearn.preprocessing import StandardScaler,PolynomialFeatures\n",
    "from sklearn.linear_model import LinearRegression\n",
    "from sklearn.model_selection import train_test_split\n",
    "from sklearn import preprocessing\n",
    "from sklearn.metrics import multilabel_confusion_matrix, classification_report, confusion_matrix\n",
    "from sklearn.metrics import plot_confusion_matrix\n",
    "import keras\n",
    "import tensorflow as tf\n",
    "from keras.models import Sequential\n",
    "from keras.layers import Dense\n",
    "from tensorflow.keras.utils import to_categorical\n",
    "import opendatasets as od\n",
    "import os\n",
    "import category_encoders as ce\n",
    "from sklearn.preprocessing import LabelBinarizer\n",
    "\n",
    "\n",
    "%matplotlib inline"
   ]
  },
  {
   "cell_type": "markdown",
   "id": "b6764271",
   "metadata": {},
   "source": [
    "## Extracting and Loading the Data\n",
    "\n",
    "Data was first downloaded from kaggle and saved in my private machine."
   ]
  },
  {
   "cell_type": "code",
   "execution_count": 2,
   "id": "ec44b384",
   "metadata": {},
   "outputs": [],
   "source": [
    "#!pip install opendatasets"
   ]
  },
  {
   "cell_type": "code",
   "execution_count": 3,
   "id": "372768d3",
   "metadata": {},
   "outputs": [
    {
     "name": "stdout",
     "output_type": "stream",
     "text": [
      "Skipping, found downloaded files in \".\\student-grade-prediction\" (use force=True to force download)\n"
     ]
    }
   ],
   "source": [
    "od.download(\"https://www.kaggle.com/datasets/dipam7/student-grade-prediction\", force=False)"
   ]
  },
  {
   "cell_type": "code",
   "execution_count": 4,
   "id": "dc48ef32",
   "metadata": {},
   "outputs": [
    {
     "data": {
      "text/plain": [
       "['student-mat.csv']"
      ]
     },
     "execution_count": 4,
     "metadata": {},
     "output_type": "execute_result"
    }
   ],
   "source": [
    "os.listdir((r'C:\\Users\\User\\student-grade-prediction'))"
   ]
  },
  {
   "cell_type": "code",
   "execution_count": 5,
   "id": "2f8d0479",
   "metadata": {},
   "outputs": [],
   "source": [
    "df = pd.read_csv(r'C:\\Users\\User\\student-grade-prediction\\student-mat.csv')"
   ]
  },
  {
   "cell_type": "code",
   "execution_count": 6,
   "id": "db231934",
   "metadata": {
    "scrolled": true
   },
   "outputs": [
    {
     "data": {
      "text/html": [
       "<div>\n",
       "<style scoped>\n",
       "    .dataframe tbody tr th:only-of-type {\n",
       "        vertical-align: middle;\n",
       "    }\n",
       "\n",
       "    .dataframe tbody tr th {\n",
       "        vertical-align: top;\n",
       "    }\n",
       "\n",
       "    .dataframe thead th {\n",
       "        text-align: right;\n",
       "    }\n",
       "</style>\n",
       "<table border=\"1\" class=\"dataframe\">\n",
       "  <thead>\n",
       "    <tr style=\"text-align: right;\">\n",
       "      <th></th>\n",
       "      <th>school</th>\n",
       "      <th>sex</th>\n",
       "      <th>age</th>\n",
       "      <th>address</th>\n",
       "      <th>famsize</th>\n",
       "      <th>Pstatus</th>\n",
       "      <th>Medu</th>\n",
       "      <th>Fedu</th>\n",
       "      <th>Mjob</th>\n",
       "      <th>Fjob</th>\n",
       "      <th>...</th>\n",
       "      <th>famrel</th>\n",
       "      <th>freetime</th>\n",
       "      <th>goout</th>\n",
       "      <th>Dalc</th>\n",
       "      <th>Walc</th>\n",
       "      <th>health</th>\n",
       "      <th>absences</th>\n",
       "      <th>G1</th>\n",
       "      <th>G2</th>\n",
       "      <th>G3</th>\n",
       "    </tr>\n",
       "  </thead>\n",
       "  <tbody>\n",
       "    <tr>\n",
       "      <th>0</th>\n",
       "      <td>GP</td>\n",
       "      <td>F</td>\n",
       "      <td>18</td>\n",
       "      <td>U</td>\n",
       "      <td>GT3</td>\n",
       "      <td>A</td>\n",
       "      <td>4</td>\n",
       "      <td>4</td>\n",
       "      <td>at_home</td>\n",
       "      <td>teacher</td>\n",
       "      <td>...</td>\n",
       "      <td>4</td>\n",
       "      <td>3</td>\n",
       "      <td>4</td>\n",
       "      <td>1</td>\n",
       "      <td>1</td>\n",
       "      <td>3</td>\n",
       "      <td>6</td>\n",
       "      <td>5</td>\n",
       "      <td>6</td>\n",
       "      <td>6</td>\n",
       "    </tr>\n",
       "    <tr>\n",
       "      <th>1</th>\n",
       "      <td>GP</td>\n",
       "      <td>F</td>\n",
       "      <td>17</td>\n",
       "      <td>U</td>\n",
       "      <td>GT3</td>\n",
       "      <td>T</td>\n",
       "      <td>1</td>\n",
       "      <td>1</td>\n",
       "      <td>at_home</td>\n",
       "      <td>other</td>\n",
       "      <td>...</td>\n",
       "      <td>5</td>\n",
       "      <td>3</td>\n",
       "      <td>3</td>\n",
       "      <td>1</td>\n",
       "      <td>1</td>\n",
       "      <td>3</td>\n",
       "      <td>4</td>\n",
       "      <td>5</td>\n",
       "      <td>5</td>\n",
       "      <td>6</td>\n",
       "    </tr>\n",
       "    <tr>\n",
       "      <th>2</th>\n",
       "      <td>GP</td>\n",
       "      <td>F</td>\n",
       "      <td>15</td>\n",
       "      <td>U</td>\n",
       "      <td>LE3</td>\n",
       "      <td>T</td>\n",
       "      <td>1</td>\n",
       "      <td>1</td>\n",
       "      <td>at_home</td>\n",
       "      <td>other</td>\n",
       "      <td>...</td>\n",
       "      <td>4</td>\n",
       "      <td>3</td>\n",
       "      <td>2</td>\n",
       "      <td>2</td>\n",
       "      <td>3</td>\n",
       "      <td>3</td>\n",
       "      <td>10</td>\n",
       "      <td>7</td>\n",
       "      <td>8</td>\n",
       "      <td>10</td>\n",
       "    </tr>\n",
       "    <tr>\n",
       "      <th>3</th>\n",
       "      <td>GP</td>\n",
       "      <td>F</td>\n",
       "      <td>15</td>\n",
       "      <td>U</td>\n",
       "      <td>GT3</td>\n",
       "      <td>T</td>\n",
       "      <td>4</td>\n",
       "      <td>2</td>\n",
       "      <td>health</td>\n",
       "      <td>services</td>\n",
       "      <td>...</td>\n",
       "      <td>3</td>\n",
       "      <td>2</td>\n",
       "      <td>2</td>\n",
       "      <td>1</td>\n",
       "      <td>1</td>\n",
       "      <td>5</td>\n",
       "      <td>2</td>\n",
       "      <td>15</td>\n",
       "      <td>14</td>\n",
       "      <td>15</td>\n",
       "    </tr>\n",
       "    <tr>\n",
       "      <th>4</th>\n",
       "      <td>GP</td>\n",
       "      <td>F</td>\n",
       "      <td>16</td>\n",
       "      <td>U</td>\n",
       "      <td>GT3</td>\n",
       "      <td>T</td>\n",
       "      <td>3</td>\n",
       "      <td>3</td>\n",
       "      <td>other</td>\n",
       "      <td>other</td>\n",
       "      <td>...</td>\n",
       "      <td>4</td>\n",
       "      <td>3</td>\n",
       "      <td>2</td>\n",
       "      <td>1</td>\n",
       "      <td>2</td>\n",
       "      <td>5</td>\n",
       "      <td>4</td>\n",
       "      <td>6</td>\n",
       "      <td>10</td>\n",
       "      <td>10</td>\n",
       "    </tr>\n",
       "    <tr>\n",
       "      <th>...</th>\n",
       "      <td>...</td>\n",
       "      <td>...</td>\n",
       "      <td>...</td>\n",
       "      <td>...</td>\n",
       "      <td>...</td>\n",
       "      <td>...</td>\n",
       "      <td>...</td>\n",
       "      <td>...</td>\n",
       "      <td>...</td>\n",
       "      <td>...</td>\n",
       "      <td>...</td>\n",
       "      <td>...</td>\n",
       "      <td>...</td>\n",
       "      <td>...</td>\n",
       "      <td>...</td>\n",
       "      <td>...</td>\n",
       "      <td>...</td>\n",
       "      <td>...</td>\n",
       "      <td>...</td>\n",
       "      <td>...</td>\n",
       "      <td>...</td>\n",
       "    </tr>\n",
       "    <tr>\n",
       "      <th>390</th>\n",
       "      <td>MS</td>\n",
       "      <td>M</td>\n",
       "      <td>20</td>\n",
       "      <td>U</td>\n",
       "      <td>LE3</td>\n",
       "      <td>A</td>\n",
       "      <td>2</td>\n",
       "      <td>2</td>\n",
       "      <td>services</td>\n",
       "      <td>services</td>\n",
       "      <td>...</td>\n",
       "      <td>5</td>\n",
       "      <td>5</td>\n",
       "      <td>4</td>\n",
       "      <td>4</td>\n",
       "      <td>5</td>\n",
       "      <td>4</td>\n",
       "      <td>11</td>\n",
       "      <td>9</td>\n",
       "      <td>9</td>\n",
       "      <td>9</td>\n",
       "    </tr>\n",
       "    <tr>\n",
       "      <th>391</th>\n",
       "      <td>MS</td>\n",
       "      <td>M</td>\n",
       "      <td>17</td>\n",
       "      <td>U</td>\n",
       "      <td>LE3</td>\n",
       "      <td>T</td>\n",
       "      <td>3</td>\n",
       "      <td>1</td>\n",
       "      <td>services</td>\n",
       "      <td>services</td>\n",
       "      <td>...</td>\n",
       "      <td>2</td>\n",
       "      <td>4</td>\n",
       "      <td>5</td>\n",
       "      <td>3</td>\n",
       "      <td>4</td>\n",
       "      <td>2</td>\n",
       "      <td>3</td>\n",
       "      <td>14</td>\n",
       "      <td>16</td>\n",
       "      <td>16</td>\n",
       "    </tr>\n",
       "    <tr>\n",
       "      <th>392</th>\n",
       "      <td>MS</td>\n",
       "      <td>M</td>\n",
       "      <td>21</td>\n",
       "      <td>R</td>\n",
       "      <td>GT3</td>\n",
       "      <td>T</td>\n",
       "      <td>1</td>\n",
       "      <td>1</td>\n",
       "      <td>other</td>\n",
       "      <td>other</td>\n",
       "      <td>...</td>\n",
       "      <td>5</td>\n",
       "      <td>5</td>\n",
       "      <td>3</td>\n",
       "      <td>3</td>\n",
       "      <td>3</td>\n",
       "      <td>3</td>\n",
       "      <td>3</td>\n",
       "      <td>10</td>\n",
       "      <td>8</td>\n",
       "      <td>7</td>\n",
       "    </tr>\n",
       "    <tr>\n",
       "      <th>393</th>\n",
       "      <td>MS</td>\n",
       "      <td>M</td>\n",
       "      <td>18</td>\n",
       "      <td>R</td>\n",
       "      <td>LE3</td>\n",
       "      <td>T</td>\n",
       "      <td>3</td>\n",
       "      <td>2</td>\n",
       "      <td>services</td>\n",
       "      <td>other</td>\n",
       "      <td>...</td>\n",
       "      <td>4</td>\n",
       "      <td>4</td>\n",
       "      <td>1</td>\n",
       "      <td>3</td>\n",
       "      <td>4</td>\n",
       "      <td>5</td>\n",
       "      <td>0</td>\n",
       "      <td>11</td>\n",
       "      <td>12</td>\n",
       "      <td>10</td>\n",
       "    </tr>\n",
       "    <tr>\n",
       "      <th>394</th>\n",
       "      <td>MS</td>\n",
       "      <td>M</td>\n",
       "      <td>19</td>\n",
       "      <td>U</td>\n",
       "      <td>LE3</td>\n",
       "      <td>T</td>\n",
       "      <td>1</td>\n",
       "      <td>1</td>\n",
       "      <td>other</td>\n",
       "      <td>at_home</td>\n",
       "      <td>...</td>\n",
       "      <td>3</td>\n",
       "      <td>2</td>\n",
       "      <td>3</td>\n",
       "      <td>3</td>\n",
       "      <td>3</td>\n",
       "      <td>5</td>\n",
       "      <td>5</td>\n",
       "      <td>8</td>\n",
       "      <td>9</td>\n",
       "      <td>9</td>\n",
       "    </tr>\n",
       "  </tbody>\n",
       "</table>\n",
       "<p>395 rows × 33 columns</p>\n",
       "</div>"
      ],
      "text/plain": [
       "    school sex  age address famsize Pstatus  Medu  Fedu      Mjob      Fjob  \\\n",
       "0       GP   F   18       U     GT3       A     4     4   at_home   teacher   \n",
       "1       GP   F   17       U     GT3       T     1     1   at_home     other   \n",
       "2       GP   F   15       U     LE3       T     1     1   at_home     other   \n",
       "3       GP   F   15       U     GT3       T     4     2    health  services   \n",
       "4       GP   F   16       U     GT3       T     3     3     other     other   \n",
       "..     ...  ..  ...     ...     ...     ...   ...   ...       ...       ...   \n",
       "390     MS   M   20       U     LE3       A     2     2  services  services   \n",
       "391     MS   M   17       U     LE3       T     3     1  services  services   \n",
       "392     MS   M   21       R     GT3       T     1     1     other     other   \n",
       "393     MS   M   18       R     LE3       T     3     2  services     other   \n",
       "394     MS   M   19       U     LE3       T     1     1     other   at_home   \n",
       "\n",
       "     ... famrel freetime  goout  Dalc  Walc health absences  G1  G2  G3  \n",
       "0    ...      4        3      4     1     1      3        6   5   6   6  \n",
       "1    ...      5        3      3     1     1      3        4   5   5   6  \n",
       "2    ...      4        3      2     2     3      3       10   7   8  10  \n",
       "3    ...      3        2      2     1     1      5        2  15  14  15  \n",
       "4    ...      4        3      2     1     2      5        4   6  10  10  \n",
       "..   ...    ...      ...    ...   ...   ...    ...      ...  ..  ..  ..  \n",
       "390  ...      5        5      4     4     5      4       11   9   9   9  \n",
       "391  ...      2        4      5     3     4      2        3  14  16  16  \n",
       "392  ...      5        5      3     3     3      3        3  10   8   7  \n",
       "393  ...      4        4      1     3     4      5        0  11  12  10  \n",
       "394  ...      3        2      3     3     3      5        5   8   9   9  \n",
       "\n",
       "[395 rows x 33 columns]"
      ]
     },
     "execution_count": 6,
     "metadata": {},
     "output_type": "execute_result"
    }
   ],
   "source": [
    "df"
   ]
  },
  {
   "cell_type": "markdown",
   "id": "c5e98a46",
   "metadata": {},
   "source": [
    "## Checking the data\n",
    "\n",
    "Looking for null values and the type of the data"
   ]
  },
  {
   "cell_type": "code",
   "execution_count": 7,
   "id": "02a80374",
   "metadata": {
    "scrolled": false
   },
   "outputs": [
    {
     "data": {
      "text/plain": [
       "school        0.0\n",
       "sex           0.0\n",
       "age           0.0\n",
       "address       0.0\n",
       "famsize       0.0\n",
       "Pstatus       0.0\n",
       "Medu          0.0\n",
       "Fedu          0.0\n",
       "Mjob          0.0\n",
       "Fjob          0.0\n",
       "reason        0.0\n",
       "guardian      0.0\n",
       "traveltime    0.0\n",
       "studytime     0.0\n",
       "failures      0.0\n",
       "schoolsup     0.0\n",
       "famsup        0.0\n",
       "paid          0.0\n",
       "activities    0.0\n",
       "nursery       0.0\n",
       "higher        0.0\n",
       "internet      0.0\n",
       "romantic      0.0\n",
       "famrel        0.0\n",
       "freetime      0.0\n",
       "goout         0.0\n",
       "Dalc          0.0\n",
       "Walc          0.0\n",
       "health        0.0\n",
       "absences      0.0\n",
       "G1            0.0\n",
       "G2            0.0\n",
       "G3            0.0\n",
       "dtype: float64"
      ]
     },
     "execution_count": 7,
     "metadata": {},
     "output_type": "execute_result"
    }
   ],
   "source": [
    "df.isnull().sum()/df.count()*100"
   ]
  },
  {
   "cell_type": "markdown",
   "id": "bf1d1542",
   "metadata": {},
   "source": [
    "The dataset has no null values"
   ]
  },
  {
   "cell_type": "code",
   "execution_count": 8,
   "id": "24f9d4bf",
   "metadata": {
    "scrolled": true
   },
   "outputs": [
    {
     "data": {
      "text/plain": [
       "school        object\n",
       "sex           object\n",
       "age            int64\n",
       "address       object\n",
       "famsize       object\n",
       "Pstatus       object\n",
       "Medu           int64\n",
       "Fedu           int64\n",
       "Mjob          object\n",
       "Fjob          object\n",
       "reason        object\n",
       "guardian      object\n",
       "traveltime     int64\n",
       "studytime      int64\n",
       "failures       int64\n",
       "schoolsup     object\n",
       "famsup        object\n",
       "paid          object\n",
       "activities    object\n",
       "nursery       object\n",
       "higher        object\n",
       "internet      object\n",
       "romantic      object\n",
       "famrel         int64\n",
       "freetime       int64\n",
       "goout          int64\n",
       "Dalc           int64\n",
       "Walc           int64\n",
       "health         int64\n",
       "absences       int64\n",
       "G1             int64\n",
       "G2             int64\n",
       "G3             int64\n",
       "dtype: object"
      ]
     },
     "execution_count": 8,
     "metadata": {},
     "output_type": "execute_result"
    }
   ],
   "source": [
    "df.dtypes"
   ]
  },
  {
   "cell_type": "markdown",
   "id": "880282d8",
   "metadata": {},
   "source": [
    "We have some categorical data. Later we'll have to turn then to numerical."
   ]
  },
  {
   "cell_type": "markdown",
   "id": "df60c768",
   "metadata": {},
   "source": [
    "<h2 id=\"discriptive_statistics\">Descriptive Statistical Analysis</h2>\n",
    "\n",
    "<p>Let's take a look at the variables by utilizing a description method.</p>\n",
    "\n",
    "<p>The <b>describe</b> function automatically computes basic statistics for all continuous variables. Any NaN values are automatically skipped in these statistics.</p>\n",
    "\n",
    "This will show:\n",
    "\n",
    "<ul>\n",
    "    <li>the count of that variable</li>\n",
    "    <li>the mean</li>\n",
    "    <li>the standard deviation (std)</li> \n",
    "    <li>the minimum value</li>\n",
    "    <li>the IQR (Interquartile Range: 25%, 50% and 75%)</li>\n",
    "    <li>the maximum value</li>\n",
    "<ul>\n"
   ]
  },
  {
   "cell_type": "code",
   "execution_count": 9,
   "id": "d1d4dee1",
   "metadata": {},
   "outputs": [
    {
     "data": {
      "text/html": [
       "<div>\n",
       "<style scoped>\n",
       "    .dataframe tbody tr th:only-of-type {\n",
       "        vertical-align: middle;\n",
       "    }\n",
       "\n",
       "    .dataframe tbody tr th {\n",
       "        vertical-align: top;\n",
       "    }\n",
       "\n",
       "    .dataframe thead th {\n",
       "        text-align: right;\n",
       "    }\n",
       "</style>\n",
       "<table border=\"1\" class=\"dataframe\">\n",
       "  <thead>\n",
       "    <tr style=\"text-align: right;\">\n",
       "      <th></th>\n",
       "      <th>G1</th>\n",
       "      <th>G2</th>\n",
       "      <th>G3</th>\n",
       "    </tr>\n",
       "  </thead>\n",
       "  <tbody>\n",
       "    <tr>\n",
       "      <th>count</th>\n",
       "      <td>395.000000</td>\n",
       "      <td>395.000000</td>\n",
       "      <td>395.000000</td>\n",
       "    </tr>\n",
       "    <tr>\n",
       "      <th>mean</th>\n",
       "      <td>10.908861</td>\n",
       "      <td>10.713924</td>\n",
       "      <td>10.415190</td>\n",
       "    </tr>\n",
       "    <tr>\n",
       "      <th>std</th>\n",
       "      <td>3.319195</td>\n",
       "      <td>3.761505</td>\n",
       "      <td>4.581443</td>\n",
       "    </tr>\n",
       "    <tr>\n",
       "      <th>min</th>\n",
       "      <td>3.000000</td>\n",
       "      <td>0.000000</td>\n",
       "      <td>0.000000</td>\n",
       "    </tr>\n",
       "    <tr>\n",
       "      <th>25%</th>\n",
       "      <td>8.000000</td>\n",
       "      <td>9.000000</td>\n",
       "      <td>8.000000</td>\n",
       "    </tr>\n",
       "    <tr>\n",
       "      <th>50%</th>\n",
       "      <td>11.000000</td>\n",
       "      <td>11.000000</td>\n",
       "      <td>11.000000</td>\n",
       "    </tr>\n",
       "    <tr>\n",
       "      <th>75%</th>\n",
       "      <td>13.000000</td>\n",
       "      <td>13.000000</td>\n",
       "      <td>14.000000</td>\n",
       "    </tr>\n",
       "    <tr>\n",
       "      <th>max</th>\n",
       "      <td>19.000000</td>\n",
       "      <td>19.000000</td>\n",
       "      <td>20.000000</td>\n",
       "    </tr>\n",
       "  </tbody>\n",
       "</table>\n",
       "</div>"
      ],
      "text/plain": [
       "               G1          G2          G3\n",
       "count  395.000000  395.000000  395.000000\n",
       "mean    10.908861   10.713924   10.415190\n",
       "std      3.319195    3.761505    4.581443\n",
       "min      3.000000    0.000000    0.000000\n",
       "25%      8.000000    9.000000    8.000000\n",
       "50%     11.000000   11.000000   11.000000\n",
       "75%     13.000000   13.000000   14.000000\n",
       "max     19.000000   19.000000   20.000000"
      ]
     },
     "execution_count": 9,
     "metadata": {},
     "output_type": "execute_result"
    }
   ],
   "source": [
    "df[['G1','G2','G3']].describe()"
   ]
  },
  {
   "cell_type": "markdown",
   "id": "de174754",
   "metadata": {},
   "source": [
    "<h3>Defininh the targets</h3>\n",
    "\n",
    "<p>The data have 3 grades (G1, G2, G3), We'll use the mean of the 3.</p>"
   ]
  },
  {
   "cell_type": "code",
   "execution_count": 10,
   "id": "f9b2dba1",
   "metadata": {},
   "outputs": [],
   "source": [
    "df['Total_score']=(df['G1']+df['G2']+df['G3'])/3\n",
    "df = df.drop(['G1','G2','G3'], axis = 1)"
   ]
  },
  {
   "cell_type": "markdown",
   "id": "71e0c371",
   "metadata": {},
   "source": [
    "<h2> Let's prepare the data</h2>\n",
    "<h2 id=\"binning\">Binning</h2>\n",
    "\n",
    "    Binning is a process of transforming continuous numerical variables into discrete categorical 'bins' for grouped analysis.\n",
    "\n",
    "\n",
    "<p>In our dataset, all the grades are real valued that may range from 0 to 100. It would be much more simpler to separate the value into categories.\n",
    "\n",
    "We will use 'for loop' to segment the 'scores' columns into 4 bins.</p>\n",
    "    \n",
    "Let's bin as follows:\n",
    "\n",
    "<ul>\n",
    "    <li>0 will be below average</li>\n",
    "    <li>1 will be above average</li>\n",
    "\n",
    "<ul>"
   ]
  },
  {
   "cell_type": "code",
   "execution_count": 11,
   "id": "190e7d7f",
   "metadata": {},
   "outputs": [
    {
     "name": "stderr",
     "output_type": "stream",
     "text": [
      "C:\\Users\\User\\AppData\\Local\\Temp\\ipykernel_8868\\2154474530.py:7: SettingWithCopyWarning: \n",
      "A value is trying to be set on a copy of a slice from a DataFrame\n",
      "\n",
      "See the caveats in the documentation: https://pandas.pydata.org/pandas-docs/stable/user_guide/indexing.html#returning-a-view-versus-a-copy\n",
      "  df['Total_class'][i] = 0\n",
      "C:\\Users\\User\\AppData\\Local\\Temp\\ipykernel_8868\\2154474530.py:5: SettingWithCopyWarning: \n",
      "A value is trying to be set on a copy of a slice from a DataFrame\n",
      "\n",
      "See the caveats in the documentation: https://pandas.pydata.org/pandas-docs/stable/user_guide/indexing.html#returning-a-view-versus-a-copy\n",
      "  df['Total_class'][i] = 1\n"
     ]
    }
   ],
   "source": [
    "df['Total_class'] = 'none'\n",
    "i = 0\n",
    "for loop in range (df.shape[0]):\n",
    "    if 11 <= df[\"Total_score\"][i] <= 20:\n",
    "        df['Total_class'][i] = 1\n",
    "    elif 0 <= df[\"Total_score\"][i] < 11:\n",
    "        df['Total_class'][i] = 0\n",
    "    i += 1"
   ]
  },
  {
   "cell_type": "code",
   "execution_count": 12,
   "id": "5c42c554",
   "metadata": {},
   "outputs": [
    {
     "data": {
      "text/plain": [
       "0    203\n",
       "1    192\n",
       "Name: Total_class, dtype: int64"
      ]
     },
     "execution_count": 12,
     "metadata": {},
     "output_type": "execute_result"
    }
   ],
   "source": [
    "df['Total_class'].value_counts() "
   ]
  },
  {
   "cell_type": "markdown",
   "id": "da902260",
   "metadata": {},
   "source": [
    "<h2 id=\"indicator\">Categorical features</h2>\n",
    "\n",
    "<p>\n",
    "    Some of the features in the dataset is categorical, they are in a object type, like sex has two unique values: \"M\" or \"F\". Regression doesn't understand words, only numbers. To use this attribute in regression analysis, we convert \"sex\" to indicator variables.\n",
    "</p>\n",
    "\n",
    "<p>\n",
    "    The pandas' method 'TargetEncoder' will assign numerical values of all features.\n",
    "</p>"
   ]
  },
  {
   "cell_type": "code",
   "execution_count": 13,
   "id": "9d15a598",
   "metadata": {},
   "outputs": [],
   "source": [
    "df_visualization = df.copy()"
   ]
  },
  {
   "cell_type": "code",
   "execution_count": 14,
   "id": "a3894bda",
   "metadata": {},
   "outputs": [
    {
     "name": "stderr",
     "output_type": "stream",
     "text": [
      "C:\\ProgramData\\Anaconda3\\lib\\site-packages\\category_encoders\\target_encoder.py:122: FutureWarning: Default parameter min_samples_leaf will change in version 2.6.See https://github.com/scikit-learn-contrib/category_encoders/issues/327\n",
      "  warnings.warn(\"Default parameter min_samples_leaf will change in version 2.6.\"\n",
      "C:\\ProgramData\\Anaconda3\\lib\\site-packages\\category_encoders\\target_encoder.py:127: FutureWarning: Default parameter smoothing will change in version 2.6.See https://github.com/scikit-learn-contrib/category_encoders/issues/327\n",
      "  warnings.warn(\"Default parameter smoothing will change in version 2.6.\"\n"
     ]
    }
   ],
   "source": [
    "tenc=ce.TargetEncoder() \n",
    "df_new = tenc.fit_transform(df[['sex','famsize','Pstatus','Mjob','Fjob','schoolsup','famsup','paid','activities','nursery','higher','internet','romantic', 'school', 'address', 'reason', 'guardian']],df['Total_class'])\n",
    "df = df.drop(['sex','famsize','Pstatus','Mjob','Fjob','schoolsup','famsup','paid','activities','nursery','higher','internet','romantic', 'school', 'address', 'reason', 'guardian'], axis = 1)\n",
    "df = pd.concat([df_new, df], axis=1 )"
   ]
  },
  {
   "cell_type": "code",
   "execution_count": 15,
   "id": "a148a217",
   "metadata": {},
   "outputs": [
    {
     "data": {
      "text/plain": [
       "0    203\n",
       "1    192\n",
       "Name: Total_class, dtype: int64"
      ]
     },
     "execution_count": 15,
     "metadata": {},
     "output_type": "execute_result"
    }
   ],
   "source": [
    "#df = df.drop([\"Total_score\"], axis = 1)\n",
    "df['Total_class'].value_counts()"
   ]
  },
  {
   "cell_type": "code",
   "execution_count": 16,
   "id": "a957274a",
   "metadata": {},
   "outputs": [],
   "source": [
    "df['Total_class'] = df['Total_class'].astype(int)"
   ]
  },
  {
   "cell_type": "code",
   "execution_count": 17,
   "id": "6315acc9",
   "metadata": {
    "scrolled": true
   },
   "outputs": [
    {
     "data": {
      "text/html": [
       "<div>\n",
       "<style scoped>\n",
       "    .dataframe tbody tr th:only-of-type {\n",
       "        vertical-align: middle;\n",
       "    }\n",
       "\n",
       "    .dataframe tbody tr th {\n",
       "        vertical-align: top;\n",
       "    }\n",
       "\n",
       "    .dataframe thead th {\n",
       "        text-align: right;\n",
       "    }\n",
       "</style>\n",
       "<table border=\"1\" class=\"dataframe\">\n",
       "  <thead>\n",
       "    <tr style=\"text-align: right;\">\n",
       "      <th></th>\n",
       "      <th>sex</th>\n",
       "      <th>famsize</th>\n",
       "      <th>Pstatus</th>\n",
       "      <th>Mjob</th>\n",
       "      <th>Fjob</th>\n",
       "      <th>schoolsup</th>\n",
       "      <th>famsup</th>\n",
       "      <th>paid</th>\n",
       "      <th>activities</th>\n",
       "      <th>nursery</th>\n",
       "      <th>...</th>\n",
       "      <th>failures</th>\n",
       "      <th>famrel</th>\n",
       "      <th>freetime</th>\n",
       "      <th>goout</th>\n",
       "      <th>Dalc</th>\n",
       "      <th>Walc</th>\n",
       "      <th>health</th>\n",
       "      <th>absences</th>\n",
       "      <th>Total_score</th>\n",
       "      <th>Total_class</th>\n",
       "    </tr>\n",
       "  </thead>\n",
       "  <tbody>\n",
       "    <tr>\n",
       "      <th>0</th>\n",
       "      <td>0.442308</td>\n",
       "      <td>0.459075</td>\n",
       "      <td>0.560976</td>\n",
       "      <td>0.322034</td>\n",
       "      <td>0.655172</td>\n",
       "      <td>0.235294</td>\n",
       "      <td>0.516340</td>\n",
       "      <td>0.462617</td>\n",
       "      <td>0.479381</td>\n",
       "      <td>0.493631</td>\n",
       "      <td>...</td>\n",
       "      <td>0</td>\n",
       "      <td>4</td>\n",
       "      <td>3</td>\n",
       "      <td>4</td>\n",
       "      <td>1</td>\n",
       "      <td>1</td>\n",
       "      <td>3</td>\n",
       "      <td>6</td>\n",
       "      <td>5.666667</td>\n",
       "      <td>0</td>\n",
       "    </tr>\n",
       "    <tr>\n",
       "      <th>1</th>\n",
       "      <td>0.442308</td>\n",
       "      <td>0.459075</td>\n",
       "      <td>0.477401</td>\n",
       "      <td>0.322034</td>\n",
       "      <td>0.470046</td>\n",
       "      <td>0.523256</td>\n",
       "      <td>0.466942</td>\n",
       "      <td>0.462617</td>\n",
       "      <td>0.479381</td>\n",
       "      <td>0.456790</td>\n",
       "      <td>...</td>\n",
       "      <td>0</td>\n",
       "      <td>5</td>\n",
       "      <td>3</td>\n",
       "      <td>3</td>\n",
       "      <td>1</td>\n",
       "      <td>1</td>\n",
       "      <td>3</td>\n",
       "      <td>4</td>\n",
       "      <td>5.333333</td>\n",
       "      <td>0</td>\n",
       "    </tr>\n",
       "    <tr>\n",
       "      <th>2</th>\n",
       "      <td>0.442308</td>\n",
       "      <td>0.552632</td>\n",
       "      <td>0.477401</td>\n",
       "      <td>0.322034</td>\n",
       "      <td>0.470046</td>\n",
       "      <td>0.235294</td>\n",
       "      <td>0.516340</td>\n",
       "      <td>0.513812</td>\n",
       "      <td>0.479381</td>\n",
       "      <td>0.493631</td>\n",
       "      <td>...</td>\n",
       "      <td>3</td>\n",
       "      <td>4</td>\n",
       "      <td>3</td>\n",
       "      <td>2</td>\n",
       "      <td>2</td>\n",
       "      <td>3</td>\n",
       "      <td>3</td>\n",
       "      <td>10</td>\n",
       "      <td>8.333333</td>\n",
       "      <td>0</td>\n",
       "    </tr>\n",
       "    <tr>\n",
       "      <th>3</th>\n",
       "      <td>0.442308</td>\n",
       "      <td>0.459075</td>\n",
       "      <td>0.477401</td>\n",
       "      <td>0.647059</td>\n",
       "      <td>0.459459</td>\n",
       "      <td>0.523256</td>\n",
       "      <td>0.466942</td>\n",
       "      <td>0.513812</td>\n",
       "      <td>0.492537</td>\n",
       "      <td>0.493631</td>\n",
       "      <td>...</td>\n",
       "      <td>0</td>\n",
       "      <td>3</td>\n",
       "      <td>2</td>\n",
       "      <td>2</td>\n",
       "      <td>1</td>\n",
       "      <td>1</td>\n",
       "      <td>5</td>\n",
       "      <td>2</td>\n",
       "      <td>14.666667</td>\n",
       "      <td>1</td>\n",
       "    </tr>\n",
       "    <tr>\n",
       "      <th>4</th>\n",
       "      <td>0.442308</td>\n",
       "      <td>0.459075</td>\n",
       "      <td>0.477401</td>\n",
       "      <td>0.439716</td>\n",
       "      <td>0.470046</td>\n",
       "      <td>0.523256</td>\n",
       "      <td>0.466942</td>\n",
       "      <td>0.513812</td>\n",
       "      <td>0.479381</td>\n",
       "      <td>0.493631</td>\n",
       "      <td>...</td>\n",
       "      <td>0</td>\n",
       "      <td>4</td>\n",
       "      <td>3</td>\n",
       "      <td>2</td>\n",
       "      <td>1</td>\n",
       "      <td>2</td>\n",
       "      <td>5</td>\n",
       "      <td>4</td>\n",
       "      <td>8.666667</td>\n",
       "      <td>0</td>\n",
       "    </tr>\n",
       "  </tbody>\n",
       "</table>\n",
       "<p>5 rows × 32 columns</p>\n",
       "</div>"
      ],
      "text/plain": [
       "        sex   famsize   Pstatus      Mjob      Fjob  schoolsup    famsup  \\\n",
       "0  0.442308  0.459075  0.560976  0.322034  0.655172   0.235294  0.516340   \n",
       "1  0.442308  0.459075  0.477401  0.322034  0.470046   0.523256  0.466942   \n",
       "2  0.442308  0.552632  0.477401  0.322034  0.470046   0.235294  0.516340   \n",
       "3  0.442308  0.459075  0.477401  0.647059  0.459459   0.523256  0.466942   \n",
       "4  0.442308  0.459075  0.477401  0.439716  0.470046   0.523256  0.466942   \n",
       "\n",
       "       paid  activities   nursery  ...  failures  famrel  freetime  goout  \\\n",
       "0  0.462617    0.479381  0.493631  ...         0       4         3      4   \n",
       "1  0.462617    0.479381  0.456790  ...         0       5         3      3   \n",
       "2  0.513812    0.479381  0.493631  ...         3       4         3      2   \n",
       "3  0.513812    0.492537  0.493631  ...         0       3         2      2   \n",
       "4  0.513812    0.479381  0.493631  ...         0       4         3      2   \n",
       "\n",
       "   Dalc  Walc  health  absences  Total_score  Total_class  \n",
       "0     1     1       3         6     5.666667            0  \n",
       "1     1     1       3         4     5.333333            0  \n",
       "2     2     3       3        10     8.333333            0  \n",
       "3     1     1       5         2    14.666667            1  \n",
       "4     1     2       5         4     8.666667            0  \n",
       "\n",
       "[5 rows x 32 columns]"
      ]
     },
     "execution_count": 17,
     "metadata": {},
     "output_type": "execute_result"
    }
   ],
   "source": [
    "df.head()"
   ]
  },
  {
   "cell_type": "markdown",
   "id": "dda3723e",
   "metadata": {},
   "source": [
    "<h3>Comparing the features and the average values</h3>\n",
    "\n",
    "<p>Now lets compare some features with the average values using boxplots.</p>\n",
    "<p>There are a lot of features, so let select 5 that have the highest correlation. We'll need to prepare the data first</p>"
   ]
  },
  {
   "cell_type": "code",
   "execution_count": 18,
   "id": "757f266d",
   "metadata": {},
   "outputs": [
    {
     "data": {
      "text/html": [
       "<div>\n",
       "<style scoped>\n",
       "    .dataframe tbody tr th:only-of-type {\n",
       "        vertical-align: middle;\n",
       "    }\n",
       "\n",
       "    .dataframe tbody tr th {\n",
       "        vertical-align: top;\n",
       "    }\n",
       "\n",
       "    .dataframe thead th {\n",
       "        text-align: right;\n",
       "    }\n",
       "</style>\n",
       "<table border=\"1\" class=\"dataframe\">\n",
       "  <thead>\n",
       "    <tr style=\"text-align: right;\">\n",
       "      <th></th>\n",
       "      <th>Total_score</th>\n",
       "    </tr>\n",
       "  </thead>\n",
       "  <tbody>\n",
       "    <tr>\n",
       "      <th>failures</th>\n",
       "      <td>-0.375759</td>\n",
       "    </tr>\n",
       "    <tr>\n",
       "      <th>goout</th>\n",
       "      <td>-0.154511</td>\n",
       "    </tr>\n",
       "    <tr>\n",
       "      <th>age</th>\n",
       "      <td>-0.134589</td>\n",
       "    </tr>\n",
       "    <tr>\n",
       "      <th>traveltime</th>\n",
       "      <td>-0.128197</td>\n",
       "    </tr>\n",
       "    <tr>\n",
       "      <th>romantic</th>\n",
       "      <td>-0.102731</td>\n",
       "    </tr>\n",
       "    <tr>\n",
       "      <th>Walc</th>\n",
       "      <td>-0.088025</td>\n",
       "    </tr>\n",
       "    <tr>\n",
       "      <th>health</th>\n",
       "      <td>-0.080380</td>\n",
       "    </tr>\n",
       "    <tr>\n",
       "      <th>Dalc</th>\n",
       "      <td>-0.072508</td>\n",
       "    </tr>\n",
       "    <tr>\n",
       "      <th>absences</th>\n",
       "      <td>-0.005909</td>\n",
       "    </tr>\n",
       "    <tr>\n",
       "      <th>freetime</th>\n",
       "      <td>0.003773</td>\n",
       "    </tr>\n",
       "    <tr>\n",
       "      <th>famrel</th>\n",
       "      <td>0.021653</td>\n",
       "    </tr>\n",
       "    <tr>\n",
       "      <th>activities</th>\n",
       "      <td>0.040859</td>\n",
       "    </tr>\n",
       "    <tr>\n",
       "      <th>Pstatus</th>\n",
       "      <td>0.043048</td>\n",
       "    </tr>\n",
       "    <tr>\n",
       "      <th>school</th>\n",
       "      <td>0.043285</td>\n",
       "    </tr>\n",
       "    <tr>\n",
       "      <th>famsup</th>\n",
       "      <td>0.061553</td>\n",
       "    </tr>\n",
       "    <tr>\n",
       "      <th>nursery</th>\n",
       "      <td>0.065145</td>\n",
       "    </tr>\n",
       "    <tr>\n",
       "      <th>guardian</th>\n",
       "      <td>0.075040</td>\n",
       "    </tr>\n",
       "    <tr>\n",
       "      <th>famsize</th>\n",
       "      <td>0.082560</td>\n",
       "    </tr>\n",
       "    <tr>\n",
       "      <th>paid</th>\n",
       "      <td>0.089511</td>\n",
       "    </tr>\n",
       "    <tr>\n",
       "      <th>sex</th>\n",
       "      <td>0.101122</td>\n",
       "    </tr>\n",
       "    <tr>\n",
       "      <th>internet</th>\n",
       "      <td>0.102628</td>\n",
       "    </tr>\n",
       "    <tr>\n",
       "      <th>address</th>\n",
       "      <td>0.107297</td>\n",
       "    </tr>\n",
       "    <tr>\n",
       "      <th>reason</th>\n",
       "      <td>0.120447</td>\n",
       "    </tr>\n",
       "    <tr>\n",
       "      <th>Fjob</th>\n",
       "      <td>0.123707</td>\n",
       "    </tr>\n",
       "    <tr>\n",
       "      <th>studytime</th>\n",
       "      <td>0.134565</td>\n",
       "    </tr>\n",
       "    <tr>\n",
       "      <th>schoolsup</th>\n",
       "      <td>0.137644</td>\n",
       "    </tr>\n",
       "    <tr>\n",
       "      <th>Fedu</th>\n",
       "      <td>0.175852</td>\n",
       "    </tr>\n",
       "    <tr>\n",
       "      <th>higher</th>\n",
       "      <td>0.189483</td>\n",
       "    </tr>\n",
       "    <tr>\n",
       "      <th>Mjob</th>\n",
       "      <td>0.191377</td>\n",
       "    </tr>\n",
       "    <tr>\n",
       "      <th>Medu</th>\n",
       "      <td>0.224260</td>\n",
       "    </tr>\n",
       "    <tr>\n",
       "      <th>Total_class</th>\n",
       "      <td>0.806553</td>\n",
       "    </tr>\n",
       "    <tr>\n",
       "      <th>Total_score</th>\n",
       "      <td>1.000000</td>\n",
       "    </tr>\n",
       "  </tbody>\n",
       "</table>\n",
       "</div>"
      ],
      "text/plain": [
       "             Total_score\n",
       "failures       -0.375759\n",
       "goout          -0.154511\n",
       "age            -0.134589\n",
       "traveltime     -0.128197\n",
       "romantic       -0.102731\n",
       "Walc           -0.088025\n",
       "health         -0.080380\n",
       "Dalc           -0.072508\n",
       "absences       -0.005909\n",
       "freetime        0.003773\n",
       "famrel          0.021653\n",
       "activities      0.040859\n",
       "Pstatus         0.043048\n",
       "school          0.043285\n",
       "famsup          0.061553\n",
       "nursery         0.065145\n",
       "guardian        0.075040\n",
       "famsize         0.082560\n",
       "paid            0.089511\n",
       "sex             0.101122\n",
       "internet        0.102628\n",
       "address         0.107297\n",
       "reason          0.120447\n",
       "Fjob            0.123707\n",
       "studytime       0.134565\n",
       "schoolsup       0.137644\n",
       "Fedu            0.175852\n",
       "higher          0.189483\n",
       "Mjob            0.191377\n",
       "Medu            0.224260\n",
       "Total_class     0.806553\n",
       "Total_score     1.000000"
      ]
     },
     "execution_count": 18,
     "metadata": {},
     "output_type": "execute_result"
    }
   ],
   "source": [
    "df_corr = df.corr()\n",
    "df_corr['Total_score'].sort_values().to_frame()"
   ]
  },
  {
   "cell_type": "code",
   "execution_count": 19,
   "id": "9fb6cfb2",
   "metadata": {},
   "outputs": [],
   "source": [
    "dfcopy = df.copy()"
   ]
  },
  {
   "cell_type": "code",
   "execution_count": 20,
   "id": "6bf7d05a",
   "metadata": {},
   "outputs": [],
   "source": [
    "dfcopy['Pjob'] = dfcopy['Mjob']+dfcopy['Fjob']\n",
    "dfcopy = dfcopy.drop(['Mjob', 'Fjob'], axis = 1)\n",
    "\n",
    "dfcopy['Support'] = dfcopy['schoolsup']+dfcopy['famsup']\n",
    "dfcopy = dfcopy.drop(['schoolsup', 'famsup'], axis = 1)\n",
    "\n",
    "dfcopy['SAR'] = dfcopy['school']+dfcopy['address']+dfcopy['reason']\n",
    "dfcopy = dfcopy.drop(['school', 'address', 'reason'], axis = 1)\n",
    "\n",
    "dfcopy['pstatusQuar'] = dfcopy['Pstatus']+dfcopy['guardian']\n",
    "dfcopy = dfcopy.drop(['Pstatus', 'guardian'], axis = 1)\n",
    "\n",
    "dfcopy['ParEdu'] = dfcopy['Medu']+dfcopy['Fedu']\n",
    "dfcopy = dfcopy.drop(['Medu', 'Fedu'], axis = 1)\n",
    "\n",
    "dfcopy['absencefree'] = dfcopy['absences']+dfcopy['freetime']\n",
    "dfcopy = dfcopy.drop(['absences', 'freetime'], axis = 1)\n",
    "\n",
    "dfcopy['paidHigher'] = dfcopy['higher']+dfcopy['paid']\n",
    "dfcopy = dfcopy.drop(['higher', 'paid'], axis = 1)\n",
    "\n",
    "dfcopy['travelgoout'] = dfcopy['goout']+dfcopy['traveltime']\n",
    "dfcopy = dfcopy.drop(['goout', 'traveltime'], axis = 1)\n",
    "\n",
    "dfcopy['actfamsize'] = dfcopy['activities']+dfcopy['famsize']\n",
    "dfcopy = dfcopy.drop(['activities', 'famsize'], axis = 1)"
   ]
  },
  {
   "cell_type": "code",
   "execution_count": 21,
   "id": "210e3920",
   "metadata": {
    "scrolled": false
   },
   "outputs": [
    {
     "data": {
      "text/html": [
       "<div>\n",
       "<style scoped>\n",
       "    .dataframe tbody tr th:only-of-type {\n",
       "        vertical-align: middle;\n",
       "    }\n",
       "\n",
       "    .dataframe tbody tr th {\n",
       "        vertical-align: top;\n",
       "    }\n",
       "\n",
       "    .dataframe thead th {\n",
       "        text-align: right;\n",
       "    }\n",
       "</style>\n",
       "<table border=\"1\" class=\"dataframe\">\n",
       "  <thead>\n",
       "    <tr style=\"text-align: right;\">\n",
       "      <th></th>\n",
       "      <th>Total_class</th>\n",
       "    </tr>\n",
       "  </thead>\n",
       "  <tbody>\n",
       "    <tr>\n",
       "      <th>failures</th>\n",
       "      <td>-0.294364</td>\n",
       "    </tr>\n",
       "    <tr>\n",
       "      <th>travelgoout</th>\n",
       "      <td>-0.175105</td>\n",
       "    </tr>\n",
       "    <tr>\n",
       "      <th>Walc</th>\n",
       "      <td>-0.101988</td>\n",
       "    </tr>\n",
       "    <tr>\n",
       "      <th>Dalc</th>\n",
       "      <td>-0.070343</td>\n",
       "    </tr>\n",
       "    <tr>\n",
       "      <th>age</th>\n",
       "      <td>-0.070234</td>\n",
       "    </tr>\n",
       "    <tr>\n",
       "      <th>famrel</th>\n",
       "      <td>-0.052638</td>\n",
       "    </tr>\n",
       "    <tr>\n",
       "      <th>absencefree</th>\n",
       "      <td>-0.042630</td>\n",
       "    </tr>\n",
       "    <tr>\n",
       "      <th>health</th>\n",
       "      <td>-0.019883</td>\n",
       "    </tr>\n",
       "    <tr>\n",
       "      <th>romantic</th>\n",
       "      <td>0.008998</td>\n",
       "    </tr>\n",
       "    <tr>\n",
       "      <th>nursery</th>\n",
       "      <td>0.029760</td>\n",
       "    </tr>\n",
       "    <tr>\n",
       "      <th>pstatusQuar</th>\n",
       "      <td>0.072480</td>\n",
       "    </tr>\n",
       "    <tr>\n",
       "      <th>studytime</th>\n",
       "      <td>0.079739</td>\n",
       "    </tr>\n",
       "    <tr>\n",
       "      <th>internet</th>\n",
       "      <td>0.082567</td>\n",
       "    </tr>\n",
       "    <tr>\n",
       "      <th>actfamsize</th>\n",
       "      <td>0.085833</td>\n",
       "    </tr>\n",
       "    <tr>\n",
       "      <th>sex</th>\n",
       "      <td>0.092357</td>\n",
       "    </tr>\n",
       "    <tr>\n",
       "      <th>paidHigher</th>\n",
       "      <td>0.133463</td>\n",
       "    </tr>\n",
       "    <tr>\n",
       "      <th>SAR</th>\n",
       "      <td>0.146280</td>\n",
       "    </tr>\n",
       "    <tr>\n",
       "      <th>ParEdu</th>\n",
       "      <td>0.183063</td>\n",
       "    </tr>\n",
       "    <tr>\n",
       "      <th>Support</th>\n",
       "      <td>0.194389</td>\n",
       "    </tr>\n",
       "    <tr>\n",
       "      <th>Pjob</th>\n",
       "      <td>0.218820</td>\n",
       "    </tr>\n",
       "    <tr>\n",
       "      <th>Total_score</th>\n",
       "      <td>0.806553</td>\n",
       "    </tr>\n",
       "    <tr>\n",
       "      <th>Total_class</th>\n",
       "      <td>1.000000</td>\n",
       "    </tr>\n",
       "  </tbody>\n",
       "</table>\n",
       "</div>"
      ],
      "text/plain": [
       "             Total_class\n",
       "failures       -0.294364\n",
       "travelgoout    -0.175105\n",
       "Walc           -0.101988\n",
       "Dalc           -0.070343\n",
       "age            -0.070234\n",
       "famrel         -0.052638\n",
       "absencefree    -0.042630\n",
       "health         -0.019883\n",
       "romantic        0.008998\n",
       "nursery         0.029760\n",
       "pstatusQuar     0.072480\n",
       "studytime       0.079739\n",
       "internet        0.082567\n",
       "actfamsize      0.085833\n",
       "sex             0.092357\n",
       "paidHigher      0.133463\n",
       "SAR             0.146280\n",
       "ParEdu          0.183063\n",
       "Support         0.194389\n",
       "Pjob            0.218820\n",
       "Total_score     0.806553\n",
       "Total_class     1.000000"
      ]
     },
     "execution_count": 21,
     "metadata": {},
     "output_type": "execute_result"
    }
   ],
   "source": [
    "df_corr = dfcopy.corr()\n",
    "df_corr['Total_class'].sort_values().to_frame()"
   ]
  },
  {
   "cell_type": "markdown",
   "id": "87e3e60c",
   "metadata": {},
   "source": [
    "<h3>\"Failures\"</h3>\n",
    "\n",
    "Let's look at the relationship between \"Failures\" and \"Total Score\"."
   ]
  },
  {
   "cell_type": "code",
   "execution_count": 22,
   "id": "f324f480",
   "metadata": {},
   "outputs": [
    {
     "data": {
      "text/plain": [
       "<AxesSubplot:xlabel='failures', ylabel='Total_score'>"
      ]
     },
     "execution_count": 22,
     "metadata": {},
     "output_type": "execute_result"
    },
    {
     "data": {
      "image/png": "[encoded data removed]",
      "text/plain": [
       "<Figure size 432x288 with 1 Axes>"
      ]
     },
     "metadata": {
      "needs_background": "light"
     },
     "output_type": "display_data"
    }
   ],
   "source": [
    "sns.boxplot(x='failures', y='Total_score',data=df_visualization)"
   ]
  },
  {
   "cell_type": "code",
   "execution_count": 23,
   "id": "b00cde46",
   "metadata": {},
   "outputs": [
    {
     "data": {
      "text/html": [
       "<div>\n",
       "<style scoped>\n",
       "    .dataframe tbody tr th:only-of-type {\n",
       "        vertical-align: middle;\n",
       "    }\n",
       "\n",
       "    .dataframe tbody tr th {\n",
       "        vertical-align: top;\n",
       "    }\n",
       "\n",
       "    .dataframe thead th {\n",
       "        text-align: right;\n",
       "    }\n",
       "</style>\n",
       "<table border=\"1\" class=\"dataframe\">\n",
       "  <thead>\n",
       "    <tr style=\"text-align: right;\">\n",
       "      <th></th>\n",
       "      <th>failures</th>\n",
       "      <th>Total_score</th>\n",
       "    </tr>\n",
       "  </thead>\n",
       "  <tbody>\n",
       "    <tr>\n",
       "      <th>0</th>\n",
       "      <td>0</td>\n",
       "      <td>11.356838</td>\n",
       "    </tr>\n",
       "    <tr>\n",
       "      <th>1</th>\n",
       "      <td>1</td>\n",
       "      <td>8.980000</td>\n",
       "    </tr>\n",
       "    <tr>\n",
       "      <th>2</th>\n",
       "      <td>2</td>\n",
       "      <td>7.313725</td>\n",
       "    </tr>\n",
       "    <tr>\n",
       "      <th>3</th>\n",
       "      <td>3</td>\n",
       "      <td>6.354167</td>\n",
       "    </tr>\n",
       "  </tbody>\n",
       "</table>\n",
       "</div>"
      ],
      "text/plain": [
       "   failures  Total_score\n",
       "0         0    11.356838\n",
       "1         1     8.980000\n",
       "2         2     7.313725\n",
       "3         3     6.354167"
      ]
     },
     "execution_count": 23,
     "metadata": {},
     "output_type": "execute_result"
    }
   ],
   "source": [
    "df_testgendermath = df_visualization[['failures','Total_score']]\n",
    "grouped_test = df_testgendermath.groupby(['failures'],as_index=False).mean()\n",
    "grouped_test"
   ]
  },
  {
   "cell_type": "markdown",
   "id": "59bb5d50",
   "metadata": {},
   "source": [
    "Accordingly with the data, males tend to have math score a litle above the average of 66.089, and females a litle below."
   ]
  },
  {
   "cell_type": "markdown",
   "id": "a697c277",
   "metadata": {},
   "source": [
    "<h3>\"Mjob\" - Mother's Job</h3>\n",
    "\n",
    "The relationship between \"Mjob\" and \"Total Score\"."
   ]
  },
  {
   "cell_type": "code",
   "execution_count": 24,
   "id": "2c913ba9",
   "metadata": {
    "scrolled": false
   },
   "outputs": [
    {
     "data": {
      "text/plain": [
       "<AxesSubplot:xlabel='Mjob', ylabel='Total_score'>"
      ]
     },
     "execution_count": 24,
     "metadata": {},
     "output_type": "execute_result"
    },
    {
     "data": {
      "image/png": "[encoded data removed]",
      "text/plain": [
       "<Figure size 432x288 with 1 Axes>"
      ]
     },
     "metadata": {
      "needs_background": "light"
     },
     "output_type": "display_data"
    }
   ],
   "source": [
    "sns.boxplot(x=\"Mjob\", y=\"Total_score\", data=df_visualization)"
   ]
  },
  {
   "cell_type": "code",
   "execution_count": 25,
   "id": "b1a23ef6",
   "metadata": {},
   "outputs": [
    {
     "data": {
      "text/html": [
       "<div>\n",
       "<style scoped>\n",
       "    .dataframe tbody tr th:only-of-type {\n",
       "        vertical-align: middle;\n",
       "    }\n",
       "\n",
       "    .dataframe tbody tr th {\n",
       "        vertical-align: top;\n",
       "    }\n",
       "\n",
       "    .dataframe thead th {\n",
       "        text-align: right;\n",
       "    }\n",
       "</style>\n",
       "<table border=\"1\" class=\"dataframe\">\n",
       "  <thead>\n",
       "    <tr style=\"text-align: right;\">\n",
       "      <th></th>\n",
       "      <th>Mjob</th>\n",
       "      <th>Total_score</th>\n",
       "    </tr>\n",
       "  </thead>\n",
       "  <tbody>\n",
       "    <tr>\n",
       "      <th>0</th>\n",
       "      <td>at_home</td>\n",
       "      <td>9.762712</td>\n",
       "    </tr>\n",
       "    <tr>\n",
       "      <th>1</th>\n",
       "      <td>health</td>\n",
       "      <td>12.235294</td>\n",
       "    </tr>\n",
       "    <tr>\n",
       "      <th>2</th>\n",
       "      <td>other</td>\n",
       "      <td>10.059102</td>\n",
       "    </tr>\n",
       "    <tr>\n",
       "      <th>3</th>\n",
       "      <td>services</td>\n",
       "      <td>11.207120</td>\n",
       "    </tr>\n",
       "    <tr>\n",
       "      <th>4</th>\n",
       "      <td>teacher</td>\n",
       "      <td>11.270115</td>\n",
       "    </tr>\n",
       "  </tbody>\n",
       "</table>\n",
       "</div>"
      ],
      "text/plain": [
       "       Mjob  Total_score\n",
       "0   at_home     9.762712\n",
       "1    health    12.235294\n",
       "2     other    10.059102\n",
       "3  services    11.207120\n",
       "4   teacher    11.270115"
      ]
     },
     "execution_count": 25,
     "metadata": {},
     "output_type": "execute_result"
    }
   ],
   "source": [
    "df_testgenderread = df_visualization[['Mjob','Total_score']]\n",
    "grouped_test1 = df_testgenderread.groupby(['Mjob'],as_index=False).mean()\n",
    "grouped_test1"
   ]
  },
  {
   "cell_type": "markdown",
   "id": "29d3ffe5",
   "metadata": {},
   "source": [
    "Accordingly with the data, females tend to have math score a litle above the average of 69.169000, and males a litle below."
   ]
  },
  {
   "cell_type": "markdown",
   "id": "0b2b7e7d",
   "metadata": {},
   "source": [
    "<h3>\"Schoolsup\" - School Support</h3>\n",
    "\n",
    "The relationship between \"choolsup\" and \"Total Score\"."
   ]
  },
  {
   "cell_type": "code",
   "execution_count": 26,
   "id": "4a8c61f4",
   "metadata": {
    "scrolled": false
   },
   "outputs": [
    {
     "data": {
      "text/plain": [
       "<AxesSubplot:xlabel='schoolsup', ylabel='Total_score'>"
      ]
     },
     "execution_count": 26,
     "metadata": {},
     "output_type": "execute_result"
    },
    {
     "data": {
      "image/png": "[encoded data removed]",
      "text/plain": [
       "<Figure size 432x288 with 1 Axes>"
      ]
     },
     "metadata": {
      "needs_background": "light"
     },
     "output_type": "display_data"
    }
   ],
   "source": [
    "sns.boxplot(x=\"schoolsup\", y=\"Total_score\", data=df_visualization)"
   ]
  },
  {
   "cell_type": "code",
   "execution_count": 27,
   "id": "ec37be0f",
   "metadata": {},
   "outputs": [
    {
     "data": {
      "text/html": [
       "<div>\n",
       "<style scoped>\n",
       "    .dataframe tbody tr th:only-of-type {\n",
       "        vertical-align: middle;\n",
       "    }\n",
       "\n",
       "    .dataframe tbody tr th {\n",
       "        vertical-align: top;\n",
       "    }\n",
       "\n",
       "    .dataframe thead th {\n",
       "        text-align: right;\n",
       "    }\n",
       "</style>\n",
       "<table border=\"1\" class=\"dataframe\">\n",
       "  <thead>\n",
       "    <tr style=\"text-align: right;\">\n",
       "      <th></th>\n",
       "      <th>schoolsup</th>\n",
       "      <th>Total_score</th>\n",
       "    </tr>\n",
       "  </thead>\n",
       "  <tbody>\n",
       "    <tr>\n",
       "      <th>0</th>\n",
       "      <td>no</td>\n",
       "      <td>10.875000</td>\n",
       "    </tr>\n",
       "    <tr>\n",
       "      <th>1</th>\n",
       "      <td>yes</td>\n",
       "      <td>9.359477</td>\n",
       "    </tr>\n",
       "  </tbody>\n",
       "</table>\n",
       "</div>"
      ],
      "text/plain": [
       "  schoolsup  Total_score\n",
       "0        no    10.875000\n",
       "1       yes     9.359477"
      ]
     },
     "execution_count": 27,
     "metadata": {},
     "output_type": "execute_result"
    }
   ],
   "source": [
    "df_testgenderwrite = df_visualization[['schoolsup','Total_score']]\n",
    "grouped_test1 = df_testgenderwrite.groupby(['schoolsup'],as_index=False).mean()\n",
    "grouped_test1"
   ]
  },
  {
   "cell_type": "markdown",
   "id": "cacf07fb",
   "metadata": {},
   "source": [
    "Accordingly with the data, females tend to have math score a litle above the average of 68.054000, and males a litle below."
   ]
  },
  {
   "cell_type": "markdown",
   "id": "e100fb65",
   "metadata": {},
   "source": [
    "For the case of gender, accordingly with the data, males tend to perform better in math only, reading and writing, are perfomed best by females, might be because it is correlated disciplines."
   ]
  },
  {
   "cell_type": "markdown",
   "id": "27886257",
   "metadata": {},
   "source": [
    "<h3>\"Medu\" - Mother's Education</h3>\n",
    "\n",
    "Let's look at the relationship between \"Medu\" and \"Total Score\"."
   ]
  },
  {
   "cell_type": "code",
   "execution_count": 28,
   "id": "08d87781",
   "metadata": {},
   "outputs": [
    {
     "data": {
      "text/plain": [
       "<AxesSubplot:xlabel='Medu', ylabel='Total_score'>"
      ]
     },
     "execution_count": 28,
     "metadata": {},
     "output_type": "execute_result"
    },
    {
     "data": {
      "image/png": "[encoded data removed]",
      "text/plain": [
       "<Figure size 432x288 with 1 Axes>"
      ]
     },
     "metadata": {
      "needs_background": "light"
     },
     "output_type": "display_data"
    }
   ],
   "source": [
    "sns.boxplot(x=\"Medu\", y=\"Total_score\", data=df_visualization)"
   ]
  },
  {
   "cell_type": "code",
   "execution_count": 29,
   "id": "744ffc8b",
   "metadata": {},
   "outputs": [
    {
     "data": {
      "text/html": [
       "<div>\n",
       "<style scoped>\n",
       "    .dataframe tbody tr th:only-of-type {\n",
       "        vertical-align: middle;\n",
       "    }\n",
       "\n",
       "    .dataframe tbody tr th {\n",
       "        vertical-align: top;\n",
       "    }\n",
       "\n",
       "    .dataframe thead th {\n",
       "        text-align: right;\n",
       "    }\n",
       "</style>\n",
       "<table border=\"1\" class=\"dataframe\">\n",
       "  <thead>\n",
       "    <tr style=\"text-align: right;\">\n",
       "      <th></th>\n",
       "      <th>Medu</th>\n",
       "      <th>Total_score</th>\n",
       "    </tr>\n",
       "  </thead>\n",
       "  <tbody>\n",
       "    <tr>\n",
       "      <th>0</th>\n",
       "      <td>0</td>\n",
       "      <td>12.555556</td>\n",
       "    </tr>\n",
       "    <tr>\n",
       "      <th>1</th>\n",
       "      <td>1</td>\n",
       "      <td>9.197740</td>\n",
       "    </tr>\n",
       "    <tr>\n",
       "      <th>2</th>\n",
       "      <td>2</td>\n",
       "      <td>10.216828</td>\n",
       "    </tr>\n",
       "    <tr>\n",
       "      <th>3</th>\n",
       "      <td>3</td>\n",
       "      <td>10.451178</td>\n",
       "    </tr>\n",
       "    <tr>\n",
       "      <th>4</th>\n",
       "      <td>4</td>\n",
       "      <td>11.839695</td>\n",
       "    </tr>\n",
       "  </tbody>\n",
       "</table>\n",
       "</div>"
      ],
      "text/plain": [
       "   Medu  Total_score\n",
       "0     0    12.555556\n",
       "1     1     9.197740\n",
       "2     2    10.216828\n",
       "3     3    10.451178\n",
       "4     4    11.839695"
      ]
     },
     "execution_count": 29,
     "metadata": {},
     "output_type": "execute_result"
    }
   ],
   "source": [
    "df_ethnricity_math = df_visualization[['Medu','Total_score']]\n",
    "grouped_ethnricity_math = df_ethnricity_math.groupby(['Medu'],as_index=False).mean()\n",
    "grouped_ethnricity_math"
   ]
  },
  {
   "cell_type": "markdown",
   "id": "7e798e51",
   "metadata": {},
   "source": [
    "Accordingly with the data, Group E tend to have math score above the average of 66.089, Group D in aa litle above average and the rest is below."
   ]
  },
  {
   "cell_type": "markdown",
   "id": "41ab1136",
   "metadata": {},
   "source": [
    "<h3>\"Fedu\" - Father's Education</h3>\n",
    "\n",
    "Let's look at the relationship between \"Fedu\" and \"Total Score\"."
   ]
  },
  {
   "cell_type": "code",
   "execution_count": 30,
   "id": "ffacca69",
   "metadata": {
    "scrolled": true
   },
   "outputs": [
    {
     "data": {
      "text/plain": [
       "<AxesSubplot:xlabel='Fedu', ylabel='Total_score'>"
      ]
     },
     "execution_count": 30,
     "metadata": {},
     "output_type": "execute_result"
    },
    {
     "data": {
      "image/png": "[encoded data removed]",
      "text/plain": [
       "<Figure size 432x288 with 1 Axes>"
      ]
     },
     "metadata": {
      "needs_background": "light"
     },
     "output_type": "display_data"
    }
   ],
   "source": [
    "sns.boxplot(x=\"Fedu\", y=\"Total_score\", data=df_visualization)"
   ]
  },
  {
   "cell_type": "code",
   "execution_count": 31,
   "id": "a69f14c6",
   "metadata": {
    "scrolled": true
   },
   "outputs": [
    {
     "data": {
      "text/html": [
       "<div>\n",
       "<style scoped>\n",
       "    .dataframe tbody tr th:only-of-type {\n",
       "        vertical-align: middle;\n",
       "    }\n",
       "\n",
       "    .dataframe tbody tr th {\n",
       "        vertical-align: top;\n",
       "    }\n",
       "\n",
       "    .dataframe thead th {\n",
       "        text-align: right;\n",
       "    }\n",
       "</style>\n",
       "<table border=\"1\" class=\"dataframe\">\n",
       "  <thead>\n",
       "    <tr style=\"text-align: right;\">\n",
       "      <th></th>\n",
       "      <th>Fedu</th>\n",
       "      <th>Total_score</th>\n",
       "    </tr>\n",
       "  </thead>\n",
       "  <tbody>\n",
       "    <tr>\n",
       "      <th>0</th>\n",
       "      <td>0</td>\n",
       "      <td>12.666667</td>\n",
       "    </tr>\n",
       "    <tr>\n",
       "      <th>1</th>\n",
       "      <td>1</td>\n",
       "      <td>9.426829</td>\n",
       "    </tr>\n",
       "    <tr>\n",
       "      <th>2</th>\n",
       "      <td>2</td>\n",
       "      <td>10.721739</td>\n",
       "    </tr>\n",
       "    <tr>\n",
       "      <th>3</th>\n",
       "      <td>3</td>\n",
       "      <td>10.716667</td>\n",
       "    </tr>\n",
       "    <tr>\n",
       "      <th>4</th>\n",
       "      <td>4</td>\n",
       "      <td>11.618056</td>\n",
       "    </tr>\n",
       "  </tbody>\n",
       "</table>\n",
       "</div>"
      ],
      "text/plain": [
       "   Fedu  Total_score\n",
       "0     0    12.666667\n",
       "1     1     9.426829\n",
       "2     2    10.721739\n",
       "3     3    10.716667\n",
       "4     4    11.618056"
      ]
     },
     "execution_count": 31,
     "metadata": {},
     "output_type": "execute_result"
    }
   ],
   "source": [
    "df_ethnricity_read = df_visualization[['Fedu','Total_score']]\n",
    "grouped_ethnricity_read = df_ethnricity_read.groupby(['Fedu'],as_index=False).mean()\n",
    "grouped_ethnricity_read"
   ]
  },
  {
   "cell_type": "markdown",
   "id": "afa24a7f",
   "metadata": {},
   "source": [
    "Accordingly with the data Group E performs better in reading, Group E, D, C and B have reading score above the average of 66.089. Group A is below."
   ]
  },
  {
   "cell_type": "markdown",
   "id": "f0745e65",
   "metadata": {},
   "source": [
    "In \"writing score\" we got outliers too, the 'male', the Group \"A\", the none in \"test preparation course\".\n",
    "\n",
    "As we can see, outliers is a very common aspect for this dataset, not surprising when talking about education, maybe more data should be more suitable."
   ]
  },
  {
   "cell_type": "markdown",
   "id": "f4d14ce4",
   "metadata": {},
   "source": [
    "<h2>Starting with Math</h2>\n",
    "\n",
    "<h2 id=\"Creating Datasets\">Creating the Training and Test Datasets</h2>\n",
    "\n",
    "The first couple of lines creates arrays of independent (x) and dependent (y) variables, respectively. The third line splits the data into training and test datasets, with 30% of the observations in the test set. The fourth line of code prints the shape of the training set (700 observations of 17 variables) and test set (300 observations of 17 variables).\n",
    "<br><br>\n",
    "Lets start with Math"
   ]
  },
  {
   "cell_type": "code",
   "execution_count": 32,
   "id": "aa64757f",
   "metadata": {},
   "outputs": [
    {
     "data": {
      "text/html": [
       "<div>\n",
       "<style scoped>\n",
       "    .dataframe tbody tr th:only-of-type {\n",
       "        vertical-align: middle;\n",
       "    }\n",
       "\n",
       "    .dataframe tbody tr th {\n",
       "        vertical-align: top;\n",
       "    }\n",
       "\n",
       "    .dataframe thead th {\n",
       "        text-align: right;\n",
       "    }\n",
       "</style>\n",
       "<table border=\"1\" class=\"dataframe\">\n",
       "  <thead>\n",
       "    <tr style=\"text-align: right;\">\n",
       "      <th></th>\n",
       "      <th>sex</th>\n",
       "      <th>famsize</th>\n",
       "      <th>Pstatus</th>\n",
       "      <th>Mjob</th>\n",
       "      <th>Fjob</th>\n",
       "      <th>schoolsup</th>\n",
       "      <th>famsup</th>\n",
       "      <th>paid</th>\n",
       "      <th>activities</th>\n",
       "      <th>nursery</th>\n",
       "      <th>...</th>\n",
       "      <th>failures</th>\n",
       "      <th>famrel</th>\n",
       "      <th>freetime</th>\n",
       "      <th>goout</th>\n",
       "      <th>Dalc</th>\n",
       "      <th>Walc</th>\n",
       "      <th>health</th>\n",
       "      <th>absences</th>\n",
       "      <th>Total_score</th>\n",
       "      <th>Total_class</th>\n",
       "    </tr>\n",
       "  </thead>\n",
       "  <tbody>\n",
       "    <tr>\n",
       "      <th>0</th>\n",
       "      <td>0.442308</td>\n",
       "      <td>0.459075</td>\n",
       "      <td>0.560976</td>\n",
       "      <td>0.322034</td>\n",
       "      <td>0.655172</td>\n",
       "      <td>0.235294</td>\n",
       "      <td>0.516340</td>\n",
       "      <td>0.462617</td>\n",
       "      <td>0.479381</td>\n",
       "      <td>0.493631</td>\n",
       "      <td>...</td>\n",
       "      <td>0</td>\n",
       "      <td>4</td>\n",
       "      <td>3</td>\n",
       "      <td>4</td>\n",
       "      <td>1</td>\n",
       "      <td>1</td>\n",
       "      <td>3</td>\n",
       "      <td>6</td>\n",
       "      <td>5.666667</td>\n",
       "      <td>0</td>\n",
       "    </tr>\n",
       "    <tr>\n",
       "      <th>1</th>\n",
       "      <td>0.442308</td>\n",
       "      <td>0.459075</td>\n",
       "      <td>0.477401</td>\n",
       "      <td>0.322034</td>\n",
       "      <td>0.470046</td>\n",
       "      <td>0.523256</td>\n",
       "      <td>0.466942</td>\n",
       "      <td>0.462617</td>\n",
       "      <td>0.479381</td>\n",
       "      <td>0.456790</td>\n",
       "      <td>...</td>\n",
       "      <td>0</td>\n",
       "      <td>5</td>\n",
       "      <td>3</td>\n",
       "      <td>3</td>\n",
       "      <td>1</td>\n",
       "      <td>1</td>\n",
       "      <td>3</td>\n",
       "      <td>4</td>\n",
       "      <td>5.333333</td>\n",
       "      <td>0</td>\n",
       "    </tr>\n",
       "    <tr>\n",
       "      <th>2</th>\n",
       "      <td>0.442308</td>\n",
       "      <td>0.552632</td>\n",
       "      <td>0.477401</td>\n",
       "      <td>0.322034</td>\n",
       "      <td>0.470046</td>\n",
       "      <td>0.235294</td>\n",
       "      <td>0.516340</td>\n",
       "      <td>0.513812</td>\n",
       "      <td>0.479381</td>\n",
       "      <td>0.493631</td>\n",
       "      <td>...</td>\n",
       "      <td>3</td>\n",
       "      <td>4</td>\n",
       "      <td>3</td>\n",
       "      <td>2</td>\n",
       "      <td>2</td>\n",
       "      <td>3</td>\n",
       "      <td>3</td>\n",
       "      <td>10</td>\n",
       "      <td>8.333333</td>\n",
       "      <td>0</td>\n",
       "    </tr>\n",
       "    <tr>\n",
       "      <th>3</th>\n",
       "      <td>0.442308</td>\n",
       "      <td>0.459075</td>\n",
       "      <td>0.477401</td>\n",
       "      <td>0.647059</td>\n",
       "      <td>0.459459</td>\n",
       "      <td>0.523256</td>\n",
       "      <td>0.466942</td>\n",
       "      <td>0.513812</td>\n",
       "      <td>0.492537</td>\n",
       "      <td>0.493631</td>\n",
       "      <td>...</td>\n",
       "      <td>0</td>\n",
       "      <td>3</td>\n",
       "      <td>2</td>\n",
       "      <td>2</td>\n",
       "      <td>1</td>\n",
       "      <td>1</td>\n",
       "      <td>5</td>\n",
       "      <td>2</td>\n",
       "      <td>14.666667</td>\n",
       "      <td>1</td>\n",
       "    </tr>\n",
       "    <tr>\n",
       "      <th>4</th>\n",
       "      <td>0.442308</td>\n",
       "      <td>0.459075</td>\n",
       "      <td>0.477401</td>\n",
       "      <td>0.439716</td>\n",
       "      <td>0.470046</td>\n",
       "      <td>0.523256</td>\n",
       "      <td>0.466942</td>\n",
       "      <td>0.513812</td>\n",
       "      <td>0.479381</td>\n",
       "      <td>0.493631</td>\n",
       "      <td>...</td>\n",
       "      <td>0</td>\n",
       "      <td>4</td>\n",
       "      <td>3</td>\n",
       "      <td>2</td>\n",
       "      <td>1</td>\n",
       "      <td>2</td>\n",
       "      <td>5</td>\n",
       "      <td>4</td>\n",
       "      <td>8.666667</td>\n",
       "      <td>0</td>\n",
       "    </tr>\n",
       "  </tbody>\n",
       "</table>\n",
       "<p>5 rows × 32 columns</p>\n",
       "</div>"
      ],
      "text/plain": [
       "        sex   famsize   Pstatus      Mjob      Fjob  schoolsup    famsup  \\\n",
       "0  0.442308  0.459075  0.560976  0.322034  0.655172   0.235294  0.516340   \n",
       "1  0.442308  0.459075  0.477401  0.322034  0.470046   0.523256  0.466942   \n",
       "2  0.442308  0.552632  0.477401  0.322034  0.470046   0.235294  0.516340   \n",
       "3  0.442308  0.459075  0.477401  0.647059  0.459459   0.523256  0.466942   \n",
       "4  0.442308  0.459075  0.477401  0.439716  0.470046   0.523256  0.466942   \n",
       "\n",
       "       paid  activities   nursery  ...  failures  famrel  freetime  goout  \\\n",
       "0  0.462617    0.479381  0.493631  ...         0       4         3      4   \n",
       "1  0.462617    0.479381  0.456790  ...         0       5         3      3   \n",
       "2  0.513812    0.479381  0.493631  ...         3       4         3      2   \n",
       "3  0.513812    0.492537  0.493631  ...         0       3         2      2   \n",
       "4  0.513812    0.479381  0.493631  ...         0       4         3      2   \n",
       "\n",
       "   Dalc  Walc  health  absences  Total_score  Total_class  \n",
       "0     1     1       3         6     5.666667            0  \n",
       "1     1     1       3         4     5.333333            0  \n",
       "2     2     3       3        10     8.333333            0  \n",
       "3     1     1       5         2    14.666667            1  \n",
       "4     1     2       5         4     8.666667            0  \n",
       "\n",
       "[5 rows x 32 columns]"
      ]
     },
     "execution_count": 32,
     "metadata": {},
     "output_type": "execute_result"
    }
   ],
   "source": [
    "df.head()"
   ]
  },
  {
   "cell_type": "code",
   "execution_count": 34,
   "id": "d8f9b42b",
   "metadata": {},
   "outputs": [
    {
     "ename": "KeyError",
     "evalue": "\"['Total_score'] not found in axis\"",
     "output_type": "error",
     "traceback": [
      "\u001b[1;31m---------------------------------------------------------------------------\u001b[0m",
      "\u001b[1;31mKeyError\u001b[0m                                  Traceback (most recent call last)",
      "Input \u001b[1;32mIn [34]\u001b[0m, in \u001b[0;36m<cell line: 2>\u001b[1;34m()\u001b[0m\n\u001b[0;32m      1\u001b[0m \u001b[38;5;66;03m#df = df.drop(['Total_score'], axis = 1)\u001b[39;00m\n\u001b[1;32m----> 2\u001b[0m dfcopy \u001b[38;5;241m=\u001b[39m \u001b[43mdfcopy\u001b[49m\u001b[38;5;241;43m.\u001b[39;49m\u001b[43mdrop\u001b[49m\u001b[43m(\u001b[49m\u001b[43m[\u001b[49m\u001b[38;5;124;43m'\u001b[39;49m\u001b[38;5;124;43mTotal_score\u001b[39;49m\u001b[38;5;124;43m'\u001b[39;49m\u001b[43m]\u001b[49m\u001b[43m,\u001b[49m\u001b[43m \u001b[49m\u001b[43maxis\u001b[49m\u001b[43m \u001b[49m\u001b[38;5;241;43m=\u001b[39;49m\u001b[43m \u001b[49m\u001b[38;5;241;43m1\u001b[39;49m\u001b[43m)\u001b[49m\n",
      "File \u001b[1;32mC:\\ProgramData\\Anaconda3\\lib\\site-packages\\pandas\\util\\_decorators.py:331\u001b[0m, in \u001b[0;36mdeprecate_nonkeyword_arguments.<locals>.decorate.<locals>.wrapper\u001b[1;34m(*args, **kwargs)\u001b[0m\n\u001b[0;32m    325\u001b[0m \u001b[38;5;28;01mif\u001b[39;00m \u001b[38;5;28mlen\u001b[39m(args) \u001b[38;5;241m>\u001b[39m num_allow_args:\n\u001b[0;32m    326\u001b[0m     warnings\u001b[38;5;241m.\u001b[39mwarn(\n\u001b[0;32m    327\u001b[0m         msg\u001b[38;5;241m.\u001b[39mformat(arguments\u001b[38;5;241m=\u001b[39m_format_argument_list(allow_args)),\n\u001b[0;32m    328\u001b[0m         \u001b[38;5;167;01mFutureWarning\u001b[39;00m,\n\u001b[0;32m    329\u001b[0m         stacklevel\u001b[38;5;241m=\u001b[39mfind_stack_level(),\n\u001b[0;32m    330\u001b[0m     )\n\u001b[1;32m--> 331\u001b[0m \u001b[38;5;28;01mreturn\u001b[39;00m func(\u001b[38;5;241m*\u001b[39margs, \u001b[38;5;241m*\u001b[39m\u001b[38;5;241m*\u001b[39mkwargs)\n",
      "File \u001b[1;32mC:\\ProgramData\\Anaconda3\\lib\\site-packages\\pandas\\core\\frame.py:5388\u001b[0m, in \u001b[0;36mDataFrame.drop\u001b[1;34m(self, labels, axis, index, columns, level, inplace, errors)\u001b[0m\n\u001b[0;32m   5240\u001b[0m \u001b[38;5;129m@deprecate_nonkeyword_arguments\u001b[39m(version\u001b[38;5;241m=\u001b[39m\u001b[38;5;28;01mNone\u001b[39;00m, allowed_args\u001b[38;5;241m=\u001b[39m[\u001b[38;5;124m\"\u001b[39m\u001b[38;5;124mself\u001b[39m\u001b[38;5;124m\"\u001b[39m, \u001b[38;5;124m\"\u001b[39m\u001b[38;5;124mlabels\u001b[39m\u001b[38;5;124m\"\u001b[39m])\n\u001b[0;32m   5241\u001b[0m \u001b[38;5;28;01mdef\u001b[39;00m \u001b[38;5;21mdrop\u001b[39m(  \u001b[38;5;66;03m# type: ignore[override]\u001b[39;00m\n\u001b[0;32m   5242\u001b[0m     \u001b[38;5;28mself\u001b[39m,\n\u001b[1;32m   (...)\u001b[0m\n\u001b[0;32m   5249\u001b[0m     errors: IgnoreRaise \u001b[38;5;241m=\u001b[39m \u001b[38;5;124m\"\u001b[39m\u001b[38;5;124mraise\u001b[39m\u001b[38;5;124m\"\u001b[39m,\n\u001b[0;32m   5250\u001b[0m ) \u001b[38;5;241m-\u001b[39m\u001b[38;5;241m>\u001b[39m DataFrame \u001b[38;5;241m|\u001b[39m \u001b[38;5;28;01mNone\u001b[39;00m:\n\u001b[0;32m   5251\u001b[0m     \u001b[38;5;124;03m\"\"\"\u001b[39;00m\n\u001b[0;32m   5252\u001b[0m \u001b[38;5;124;03m    Drop specified labels from rows or columns.\u001b[39;00m\n\u001b[0;32m   5253\u001b[0m \n\u001b[1;32m   (...)\u001b[0m\n\u001b[0;32m   5386\u001b[0m \u001b[38;5;124;03m            weight  1.0     0.8\u001b[39;00m\n\u001b[0;32m   5387\u001b[0m \u001b[38;5;124;03m    \"\"\"\u001b[39;00m\n\u001b[1;32m-> 5388\u001b[0m     \u001b[38;5;28;01mreturn\u001b[39;00m \u001b[38;5;28;43msuper\u001b[39;49m\u001b[43m(\u001b[49m\u001b[43m)\u001b[49m\u001b[38;5;241;43m.\u001b[39;49m\u001b[43mdrop\u001b[49m\u001b[43m(\u001b[49m\n\u001b[0;32m   5389\u001b[0m \u001b[43m        \u001b[49m\u001b[43mlabels\u001b[49m\u001b[38;5;241;43m=\u001b[39;49m\u001b[43mlabels\u001b[49m\u001b[43m,\u001b[49m\n\u001b[0;32m   5390\u001b[0m \u001b[43m        \u001b[49m\u001b[43maxis\u001b[49m\u001b[38;5;241;43m=\u001b[39;49m\u001b[43maxis\u001b[49m\u001b[43m,\u001b[49m\n\u001b[0;32m   5391\u001b[0m \u001b[43m        \u001b[49m\u001b[43mindex\u001b[49m\u001b[38;5;241;43m=\u001b[39;49m\u001b[43mindex\u001b[49m\u001b[43m,\u001b[49m\n\u001b[0;32m   5392\u001b[0m \u001b[43m        \u001b[49m\u001b[43mcolumns\u001b[49m\u001b[38;5;241;43m=\u001b[39;49m\u001b[43mcolumns\u001b[49m\u001b[43m,\u001b[49m\n\u001b[0;32m   5393\u001b[0m \u001b[43m        \u001b[49m\u001b[43mlevel\u001b[49m\u001b[38;5;241;43m=\u001b[39;49m\u001b[43mlevel\u001b[49m\u001b[43m,\u001b[49m\n\u001b[0;32m   5394\u001b[0m \u001b[43m        \u001b[49m\u001b[43minplace\u001b[49m\u001b[38;5;241;43m=\u001b[39;49m\u001b[43minplace\u001b[49m\u001b[43m,\u001b[49m\n\u001b[0;32m   5395\u001b[0m \u001b[43m        \u001b[49m\u001b[43merrors\u001b[49m\u001b[38;5;241;43m=\u001b[39;49m\u001b[43merrors\u001b[49m\u001b[43m,\u001b[49m\n\u001b[0;32m   5396\u001b[0m \u001b[43m    \u001b[49m\u001b[43m)\u001b[49m\n",
      "File \u001b[1;32mC:\\ProgramData\\Anaconda3\\lib\\site-packages\\pandas\\util\\_decorators.py:331\u001b[0m, in \u001b[0;36mdeprecate_nonkeyword_arguments.<locals>.decorate.<locals>.wrapper\u001b[1;34m(*args, **kwargs)\u001b[0m\n\u001b[0;32m    325\u001b[0m \u001b[38;5;28;01mif\u001b[39;00m \u001b[38;5;28mlen\u001b[39m(args) \u001b[38;5;241m>\u001b[39m num_allow_args:\n\u001b[0;32m    326\u001b[0m     warnings\u001b[38;5;241m.\u001b[39mwarn(\n\u001b[0;32m    327\u001b[0m         msg\u001b[38;5;241m.\u001b[39mformat(arguments\u001b[38;5;241m=\u001b[39m_format_argument_list(allow_args)),\n\u001b[0;32m    328\u001b[0m         \u001b[38;5;167;01mFutureWarning\u001b[39;00m,\n\u001b[0;32m    329\u001b[0m         stacklevel\u001b[38;5;241m=\u001b[39mfind_stack_level(),\n\u001b[0;32m    330\u001b[0m     )\n\u001b[1;32m--> 331\u001b[0m \u001b[38;5;28;01mreturn\u001b[39;00m func(\u001b[38;5;241m*\u001b[39margs, \u001b[38;5;241m*\u001b[39m\u001b[38;5;241m*\u001b[39mkwargs)\n",
      "File \u001b[1;32mC:\\ProgramData\\Anaconda3\\lib\\site-packages\\pandas\\core\\generic.py:4505\u001b[0m, in \u001b[0;36mNDFrame.drop\u001b[1;34m(self, labels, axis, index, columns, level, inplace, errors)\u001b[0m\n\u001b[0;32m   4503\u001b[0m \u001b[38;5;28;01mfor\u001b[39;00m axis, labels \u001b[38;5;129;01min\u001b[39;00m axes\u001b[38;5;241m.\u001b[39mitems():\n\u001b[0;32m   4504\u001b[0m     \u001b[38;5;28;01mif\u001b[39;00m labels \u001b[38;5;129;01mis\u001b[39;00m \u001b[38;5;129;01mnot\u001b[39;00m \u001b[38;5;28;01mNone\u001b[39;00m:\n\u001b[1;32m-> 4505\u001b[0m         obj \u001b[38;5;241m=\u001b[39m \u001b[43mobj\u001b[49m\u001b[38;5;241;43m.\u001b[39;49m\u001b[43m_drop_axis\u001b[49m\u001b[43m(\u001b[49m\u001b[43mlabels\u001b[49m\u001b[43m,\u001b[49m\u001b[43m \u001b[49m\u001b[43maxis\u001b[49m\u001b[43m,\u001b[49m\u001b[43m \u001b[49m\u001b[43mlevel\u001b[49m\u001b[38;5;241;43m=\u001b[39;49m\u001b[43mlevel\u001b[49m\u001b[43m,\u001b[49m\u001b[43m \u001b[49m\u001b[43merrors\u001b[49m\u001b[38;5;241;43m=\u001b[39;49m\u001b[43merrors\u001b[49m\u001b[43m)\u001b[49m\n\u001b[0;32m   4507\u001b[0m \u001b[38;5;28;01mif\u001b[39;00m inplace:\n\u001b[0;32m   4508\u001b[0m     \u001b[38;5;28mself\u001b[39m\u001b[38;5;241m.\u001b[39m_update_inplace(obj)\n",
      "File \u001b[1;32mC:\\ProgramData\\Anaconda3\\lib\\site-packages\\pandas\\core\\generic.py:4546\u001b[0m, in \u001b[0;36mNDFrame._drop_axis\u001b[1;34m(self, labels, axis, level, errors, only_slice)\u001b[0m\n\u001b[0;32m   4544\u001b[0m         new_axis \u001b[38;5;241m=\u001b[39m axis\u001b[38;5;241m.\u001b[39mdrop(labels, level\u001b[38;5;241m=\u001b[39mlevel, errors\u001b[38;5;241m=\u001b[39merrors)\n\u001b[0;32m   4545\u001b[0m     \u001b[38;5;28;01melse\u001b[39;00m:\n\u001b[1;32m-> 4546\u001b[0m         new_axis \u001b[38;5;241m=\u001b[39m \u001b[43maxis\u001b[49m\u001b[38;5;241;43m.\u001b[39;49m\u001b[43mdrop\u001b[49m\u001b[43m(\u001b[49m\u001b[43mlabels\u001b[49m\u001b[43m,\u001b[49m\u001b[43m \u001b[49m\u001b[43merrors\u001b[49m\u001b[38;5;241;43m=\u001b[39;49m\u001b[43merrors\u001b[49m\u001b[43m)\u001b[49m\n\u001b[0;32m   4547\u001b[0m     indexer \u001b[38;5;241m=\u001b[39m axis\u001b[38;5;241m.\u001b[39mget_indexer(new_axis)\n\u001b[0;32m   4549\u001b[0m \u001b[38;5;66;03m# Case for non-unique axis\u001b[39;00m\n\u001b[0;32m   4550\u001b[0m \u001b[38;5;28;01melse\u001b[39;00m:\n",
      "File \u001b[1;32mC:\\ProgramData\\Anaconda3\\lib\\site-packages\\pandas\\core\\indexes\\base.py:6975\u001b[0m, in \u001b[0;36mIndex.drop\u001b[1;34m(self, labels, errors)\u001b[0m\n\u001b[0;32m   6973\u001b[0m \u001b[38;5;28;01mif\u001b[39;00m mask\u001b[38;5;241m.\u001b[39many():\n\u001b[0;32m   6974\u001b[0m     \u001b[38;5;28;01mif\u001b[39;00m errors \u001b[38;5;241m!=\u001b[39m \u001b[38;5;124m\"\u001b[39m\u001b[38;5;124mignore\u001b[39m\u001b[38;5;124m\"\u001b[39m:\n\u001b[1;32m-> 6975\u001b[0m         \u001b[38;5;28;01mraise\u001b[39;00m \u001b[38;5;167;01mKeyError\u001b[39;00m(\u001b[38;5;124mf\u001b[39m\u001b[38;5;124m\"\u001b[39m\u001b[38;5;132;01m{\u001b[39;00m\u001b[38;5;28mlist\u001b[39m(labels[mask])\u001b[38;5;132;01m}\u001b[39;00m\u001b[38;5;124m not found in axis\u001b[39m\u001b[38;5;124m\"\u001b[39m)\n\u001b[0;32m   6976\u001b[0m     indexer \u001b[38;5;241m=\u001b[39m indexer[\u001b[38;5;241m~\u001b[39mmask]\n\u001b[0;32m   6977\u001b[0m \u001b[38;5;28;01mreturn\u001b[39;00m \u001b[38;5;28mself\u001b[39m\u001b[38;5;241m.\u001b[39mdelete(indexer)\n",
      "\u001b[1;31mKeyError\u001b[0m: \"['Total_score'] not found in axis\""
     ]
    }
   ],
   "source": [
    "#df = df.drop(['Total_score'], axis = 1)\n",
    "dfcopy = dfcopy.drop(['Total_score'], axis = 1)"
   ]
  },
  {
   "cell_type": "code",
   "execution_count": 35,
   "id": "05ee17e6",
   "metadata": {},
   "outputs": [
    {
     "data": {
      "text/plain": [
       "(395, 1)"
      ]
     },
     "execution_count": 35,
     "metadata": {},
     "output_type": "execute_result"
    }
   ],
   "source": [
    "y = LabelBinarizer().fit_transform(dfcopy.Total_class)\n",
    "y.shape"
   ]
  },
  {
   "cell_type": "code",
   "execution_count": 38,
   "id": "1f8c7cdb",
   "metadata": {},
   "outputs": [
    {
     "name": "stdout",
     "output_type": "stream",
     "text": [
      "(355, 15)\n",
      "(40, 15)\n"
     ]
    }
   ],
   "source": [
    "X = dfcopy[['failures','travelgoout','Walc','Dalc','age','pstatusQuar','studytime','internet','actfamsize','sex','paidHigher','SAR','ParEdu','Support','Pjob']].values\n",
    "X_train, X_test, y_train, y_test = train_test_split(X, y, test_size=0.10, random_state=40)\n",
    "print(X_train.shape); print(X_test.shape)"
   ]
  },
  {
   "cell_type": "markdown",
   "id": "f42f5895",
   "metadata": {},
   "source": [
    "<h2 id=\"Define\">Define, Compile, and Fit the Keras Classification Model</h2>\n",
    "\n",
    "First we set up the model. The first line of code calls for the Sequential constructor. We are using the Sequential model because our network consists of a linear stack of layers.\n",
    "\n",
    "The second line of code represents the input layer which are our dimensions, we have 17 inputs. Then we repeat the same process in the third and fourth line of codes for the two hidden layers, but this time without the input_dim parameter. The activation function used is a rectified linear unit, or ReLU. ReLU is the most widely used activation function because it is nonlinear, and has the ability to not activate all the neurons at the same time.\n",
    "\n",
    "The fifth line of code creates the output layer with four nodes because there are four output classes, 0, 1, 2 and 3. We use 'softmax' as the activation function in the output layer of neural network model that predict a multinomial probability distribution.\n",
    "\n",
    "In the above lines of codes, we have defined our deep learning model architecture,'categorical cross-entropy' as our loss measure, 'adam' as the optimizer algorithm, and 'accuracy' as the evaluation metric. Using “adam” will save us the task of optimizing the learning rate for our model."
   ]
  },
  {
   "cell_type": "markdown",
   "id": "77e14b37",
   "metadata": {},
   "source": [
    "Let's train our model, providing the argument epochs, which represents the number of training iterations. We have taken 100 epochs."
   ]
  },
  {
   "cell_type": "markdown",
   "id": "feec36b4",
   "metadata": {},
   "source": [
    "The dataset has the marjority of the math class in the category 2. In a total of 1000 rows, category 2 represents 57% of the data, the model has to be above that number by large."
   ]
  },
  {
   "cell_type": "markdown",
   "id": "153ccdd4",
   "metadata": {},
   "source": [
    "We’ll use StandardScaler from Scikit-Learn to fit and transform the training data and to apply the transformation to the testing data:"
   ]
  },
  {
   "cell_type": "code",
   "execution_count": 39,
   "id": "38b9c483",
   "metadata": {},
   "outputs": [],
   "source": [
    "tf.random.set_seed(0)\n",
    "scaler = StandardScaler()\n",
    "X_train_scaled = scaler.fit_transform(X_train)\n",
    "X_test_scaled = scaler.transform(X_test)"
   ]
  },
  {
   "cell_type": "markdown",
   "id": "4051ba31",
   "metadata": {},
   "source": [
    "We’ll train the model for 100 epochs to test 100 different loss/learning rate combinations. Here’s the range for the learning rate values:\n",
    "\n",
    "A learning rate of 0.001 is the default one for Adam optimizer.\n",
    "\n",
    "We are gona use LearningRateScheduler that allows us to change the learning rate as a lambda function."
   ]
  },
  {
   "cell_type": "code",
   "execution_count": 44,
   "id": "f5795515",
   "metadata": {
    "scrolled": true
   },
   "outputs": [
    {
     "name": "stdout",
     "output_type": "stream",
     "text": [
      "Epoch 1/5\n",
      "12/12 [==============================] - 0s 1ms/step - loss: 0.6568 - accuracy: 0.6338\n",
      "Epoch 2/5\n",
      "12/12 [==============================] - 0s 1ms/step - loss: 0.5646 - accuracy: 0.7099\n",
      "Epoch 3/5\n",
      "12/12 [==============================] - 0s 2ms/step - loss: 0.5362 - accuracy: 0.7352\n",
      "Epoch 4/5\n",
      "12/12 [==============================] - 0s 2ms/step - loss: 0.5040 - accuracy: 0.7408\n",
      "Epoch 5/5\n",
      "12/12 [==============================] - 0s 1ms/step - loss: 0.4715 - accuracy: 0.7606\n"
     ]
    }
   ],
   "source": [
    "model = tf.keras.Sequential([\n",
    "    tf.keras.layers.Dense(32, activation='relu'),\n",
    "    tf.keras.layers.Dense(64, activation='relu'),\n",
    "    tf.keras.layers.Dense(64, activation='relu'),\n",
    "    tf.keras.layers.Dense(1, activation='sigmoid')\n",
    "])\n",
    "\n",
    "model.compile(\n",
    "    loss=tf.keras.losses.binary_crossentropy,\n",
    "    optimizer=tf.keras.optimizers.Adam(learning_rate=0.005),\n",
    "    metrics=[\n",
    "        tf.keras.metrics.BinaryAccuracy(name='accuracy')\n",
    "    ]\n",
    ")\n",
    "\n",
    "history = model.fit(\n",
    "    X_train_scaled,\n",
    "    y_train,\n",
    "    epochs=5\n",
    ")"
   ]
  },
  {
   "cell_type": "markdown",
   "id": "65823998",
   "metadata": {},
   "source": [
    "<h2 id=\"Predict\">Predict on the Test Data and Compute Evaluation Metrics:</h2>\n",
    "\n",
    "\n",
    "The first line of code predicts on the train data, while the second line evaluates the model, and the third line prints the accuracy and error on the training data.\n",
    "\n",
    "The same is repeated in the fourth, fifth and sixth lines of code which is performed on the test data."
   ]
  },
  {
   "cell_type": "code",
   "execution_count": 45,
   "id": "995bc1b2",
   "metadata": {},
   "outputs": [
    {
     "name": "stdout",
     "output_type": "stream",
     "text": [
      "Accuracy on training data: 81.4084529876709% \n",
      " Error on training data: 18.5915470123291%\n",
      "Accuracy on test data: 80.0000011920929% \n",
      " Error on test data: 19.999998807907104%\n"
     ]
    }
   ],
   "source": [
    "pred_train= model.predict(X_train_scaled)\n",
    "scores = model.evaluate(X_train_scaled, y_train, verbose=0)\n",
    "print('Accuracy on training data: {}% \\n Error on training data: {}%'.format((scores[1]*100), (1 - scores[1])*100))   \n",
    " \n",
    "pred_test= model.predict(X_test_scaled)\n",
    "scores2 = model.evaluate(X_test_scaled, y_test, verbose=0)\n",
    "print('Accuracy on test data: {}% \\n Error on test data: {}%'.format((scores2[1]*100), (1 - scores2[1])*100))"
   ]
  },
  {
   "cell_type": "markdown",
   "id": "ca18a5f6",
   "metadata": {},
   "source": [
    "The accuracy is 82,2% in training and 80.0% in testing, very close."
   ]
  },
  {
   "cell_type": "markdown",
   "id": "d1683220",
   "metadata": {},
   "source": [
    "To visualize the predictions let's plot a confunsion matrix:"
   ]
  },
  {
   "cell_type": "code",
   "execution_count": 46,
   "id": "32c67167",
   "metadata": {},
   "outputs": [],
   "source": [
    "predictions = model.predict(X_test_scaled)"
   ]
  },
  {
   "cell_type": "code",
   "execution_count": 47,
   "id": "853be51e",
   "metadata": {},
   "outputs": [],
   "source": [
    "prediction_classes = [\n",
    "    1 if prob > 0.5 else 0 for prob in np.ravel(predictions)\n",
    "]"
   ]
  },
  {
   "cell_type": "code",
   "execution_count": 48,
   "id": "a51411f6",
   "metadata": {},
   "outputs": [
    {
     "name": "stdout",
     "output_type": "stream",
     "text": [
      "[[12  5]\n",
      " [ 3 20]]\n"
     ]
    }
   ],
   "source": [
    "print(confusion_matrix(y_test, prediction_classes))"
   ]
  },
  {
   "cell_type": "markdown",
   "id": "89acbfc9",
   "metadata": {},
   "source": [
    "Now let's prepare a code for reading score and writing."
   ]
  },
  {
   "cell_type": "markdown",
   "id": "5d0fac57",
   "metadata": {},
   "source": [
    "<h2 id=\"Others\">Some Others Models:</h2>\n",
    "\n",
    "\n",
    "Lets see how some others models behave using LazyClassifier."
   ]
  },
  {
   "cell_type": "code",
   "execution_count": 57,
   "id": "274739c8",
   "metadata": {},
   "outputs": [],
   "source": [
    "#!pip install lazypredict"
   ]
  },
  {
   "cell_type": "code",
   "execution_count": 51,
   "id": "7b258dd7",
   "metadata": {},
   "outputs": [],
   "source": [
    "from lazypredict.Supervised import LazyClassifier"
   ]
  },
  {
   "cell_type": "code",
   "execution_count": 52,
   "id": "ba41e753",
   "metadata": {
    "scrolled": true
   },
   "outputs": [
    {
     "name": "stderr",
     "output_type": "stream",
     "text": [
      "100%|██████████████████████████████████████████████████████████████████████████████████| 29/29 [00:00<00:00, 31.64it/s]"
     ]
    },
    {
     "name": "stdout",
     "output_type": "stream",
     "text": [
      "                               Accuracy  Balanced Accuracy  ROC AUC  F1 Score  \\\n",
      "Model                                                                           \n",
      "LinearDiscriminantAnalysis         0.78               0.77     0.77      0.77   \n",
      "RidgeClassifierCV                  0.78               0.77     0.77      0.77   \n",
      "RidgeClassifier                    0.78               0.77     0.77      0.77   \n",
      "SVC                                0.75               0.75     0.75      0.75   \n",
      "AdaBoostClassifier                 0.75               0.74     0.74      0.75   \n",
      "CalibratedClassifierCV             0.75               0.74     0.74      0.75   \n",
      "RandomForestClassifier             0.72               0.72     0.72      0.73   \n",
      "NearestCentroid                    0.72               0.72     0.72      0.72   \n",
      "LogisticRegression                 0.72               0.71     0.71      0.72   \n",
      "LinearSVC                          0.72               0.71     0.71      0.72   \n",
      "PassiveAggressiveClassifier        0.70               0.71     0.71      0.70   \n",
      "BernoulliNB                        0.70               0.69     0.69      0.70   \n",
      "LGBMClassifier                     0.68               0.67     0.67      0.68   \n",
      "ExtraTreesClassifier               0.68               0.67     0.67      0.68   \n",
      "GaussianNB                         0.68               0.66     0.66      0.67   \n",
      "KNeighborsClassifier               0.65               0.65     0.65      0.65   \n",
      "NuSVC                              0.65               0.64     0.64      0.65   \n",
      "QuadraticDiscriminantAnalysis      0.65               0.64     0.64      0.64   \n",
      "ExtraTreeClassifier                0.62               0.63     0.63      0.62   \n",
      "XGBClassifier                      0.62               0.62     0.62      0.63   \n",
      "LabelPropagation                   0.62               0.62     0.62      0.63   \n",
      "LabelSpreading                     0.62               0.62     0.62      0.63   \n",
      "DecisionTreeClassifier             0.62               0.61     0.61      0.62   \n",
      "Perceptron                         0.57               0.59     0.59      0.56   \n",
      "BaggingClassifier                  0.55               0.56     0.56      0.55   \n",
      "SGDClassifier                      0.53               0.51     0.51      0.52   \n",
      "DummyClassifier                    0.45               0.50     0.50      0.28   \n",
      "\n",
      "                               Time Taken  \n",
      "Model                                      \n",
      "LinearDiscriminantAnalysis           0.01  \n",
      "RidgeClassifierCV                    0.01  \n",
      "RidgeClassifier                      0.01  \n",
      "SVC                                  0.02  \n",
      "AdaBoostClassifier                   0.10  \n",
      "CalibratedClassifierCV               0.08  \n",
      "RandomForestClassifier               0.19  \n",
      "NearestCentroid                      0.01  \n",
      "LogisticRegression                   0.01  \n",
      "LinearSVC                            0.02  \n",
      "PassiveAggressiveClassifier          0.01  \n",
      "BernoulliNB                          0.01  \n",
      "LGBMClassifier                       0.06  \n",
      "ExtraTreesClassifier                 0.11  \n",
      "GaussianNB                           0.01  \n",
      "KNeighborsClassifier                 0.01  \n",
      "NuSVC                                0.02  \n",
      "QuadraticDiscriminantAnalysis        0.01  \n",
      "ExtraTreeClassifier                  0.01  \n",
      "XGBClassifier                        0.07  \n",
      "LabelPropagation                     0.02  \n",
      "LabelSpreading                       0.01  \n",
      "DecisionTreeClassifier               0.01  \n",
      "Perceptron                           0.01  \n",
      "BaggingClassifier                    0.03  \n",
      "SGDClassifier                        0.01  \n",
      "DummyClassifier                      0.01  \n"
     ]
    },
    {
     "name": "stderr",
     "output_type": "stream",
     "text": [
      "\n"
     ]
    }
   ],
   "source": [
    "x = dfcopy[['failures','travelgoout','Walc','Dalc','age','pstatusQuar','studytime','internet','actfamsize','sex','paidHigher','SAR','ParEdu','Support','Pjob']].values\n",
    "y = dfcopy['Total_class']\n",
    "y = y.astype(int)\n",
    "X_train, X_test, Y_train, Y_test = train_test_split( X, y, test_size=0.10, random_state=2)\n",
    "x_train_scaled = preprocessing.StandardScaler().fit(X_train).transform(X_train.astype(float))\n",
    "# transform test set\n",
    "x_test_scaled = preprocessing.StandardScaler().fit(X_test).transform(X_test.astype(float))\n",
    "target = [0,1]\n",
    "# initialize\n",
    "clf = LazyClassifier(verbose=0,ignore_warnings=True, custom_metric=None,predictions=True)\n",
    "# run test\n",
    "models,predictions = clf.fit(x_train_scaled, x_test_scaled, Y_train, Y_test)\n",
    "print(models)"
   ]
  },
  {
   "cell_type": "code",
   "execution_count": 53,
   "id": "4000bce6",
   "metadata": {},
   "outputs": [
    {
     "data": {
      "image/png": "[encoded data removed]",
      "text/plain": [
       "<Figure size 1440x864 with 1 Axes>"
      ]
     },
     "metadata": {
      "needs_background": "light"
     },
     "output_type": "display_data"
    }
   ],
   "source": [
    "df_models = models[['Accuracy','Balanced Accuracy','ROC AUC', 'F1 Score']]\n",
    "df_models.plot(kind='bar', figsize=(20, 12))\n",
    "\n",
    "plt.xlabel(\"Method\")\n",
    "plt.xticks(rotation = 45)\n",
    "plt.ylabel(\"Accuracy\")\n",
    "plt.title(\"Methods Classification\")\n",
    "          \n",
    "plt.show()"
   ]
  },
  {
   "cell_type": "markdown",
   "id": "c60b9e83",
   "metadata": {},
   "source": [
    "Best evaluation with LinearDiscriminantAnalysis and RidgeClassifierCV, both with 78% accuracy."
   ]
  },
  {
   "cell_type": "markdown",
   "id": "fb2fdd61",
   "metadata": {},
   "source": [
    "## Authors"
   ]
  },
  {
   "cell_type": "markdown",
   "id": "c53cfae0",
   "metadata": {},
   "source": [
    "The dataset was extracted from Kaggle.\n",
    "The data set is from the UCL Machine Learning Repository.\n",
    "## Source:\n",
    "Paulo Cortez, University of Minho, GuimarÃ£es, Portugal, http://www3.dsi.uminho.pt/pcortez\n",
    "<br>\n",
    "<br>Adapted by Érike de Oliveira Barbosa for the Course in Advanced Data Science - Capstone.\n",
    "\n",
    "## Thank you"
   ]
  }
 ],
 "metadata": {
  "kernelspec": {
   "display_name": "Python 3 (ipykernel)",
   "language": "python",
   "name": "python3"
  },
  "language_info": {
   "codemirror_mode": {
    "name": "ipython",
    "version": 3
   },
   "file_extension": ".py",
   "mimetype": "text/x-python",
   "name": "python",
   "nbconvert_exporter": "python",
   "pygments_lexer": "ipython3",
   "version": "3.9.12"
  }
 },
 "nbformat": 4,
 "nbformat_minor": 5
}
